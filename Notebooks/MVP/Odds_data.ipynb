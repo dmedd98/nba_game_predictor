{
 "cells": [
  {
   "cell_type": "code",
   "execution_count": 1,
   "metadata": {},
   "outputs": [],
   "source": [
    "import pandas as pd\n",
    "import pickle\n"
   ]
  },
  {
   "cell_type": "code",
   "execution_count": 18,
   "metadata": {},
   "outputs": [],
   "source": [
    "from datetime import datetime\n",
    "from datetime import datetime, timedelta"
   ]
  },
  {
   "cell_type": "code",
   "execution_count": 2,
   "metadata": {},
   "outputs": [],
   "source": [
    "with open('data/pickles/model_df21.p', 'rb') as readfile: \n",
    "    model_df21 = pickle.load(readfile)\n",
    "    \n",
    "with open('data/pickles/model_df20.p', 'rb') as readfile: \n",
    "    model_df20 = pickle.load(readfile)\n",
    "    \n",
    "with open('data/pickles/model_df19.p', 'rb') as readfile: \n",
    "    model_df19 = pickle.load(readfile)\n",
    "    \n",
    "with open('data/pickles/model_df18.p', 'rb') as readfile: \n",
    "    model_df18 = pickle.load(readfile)\n",
    "    \n",
    "with open('data/pickles/model_df17.p', 'rb') as readfile: \n",
    "    model_df17 = pickle.load(readfile)"
   ]
  },
  {
   "cell_type": "code",
   "execution_count": 116,
   "metadata": {},
   "outputs": [],
   "source": [
    "odds21 = pd.read_excel('Odds-Data-Clean/nba odds 2020-21.xlsx')\n",
    "odds20 = pd.read_excel('Odds-Data-Clean/nba odds 2019-20.xlsx')\n",
    "odds19 = pd.read_excel('Odds-Data-Clean/nba odds 2018-19.xlsx')\n",
    "odds18 = pd.read_excel('Odds-Data-Clean/nba odds 2017-18.xlsx')\n",
    "odds17 = pd.read_excel('Odds-Data-Clean/nba odds 2016-17.xlsx')\n"
   ]
  },
  {
   "cell_type": "markdown",
   "metadata": {},
   "source": [
    "Dropping all non regular season games"
   ]
  },
  {
   "cell_type": "code",
   "execution_count": 117,
   "metadata": {},
   "outputs": [],
   "source": [
    "odds21 = odds21[:2160]\n",
    "odds20 = odds20[:2118]\n",
    "odds19 = odds19[:2460]\n",
    "odds18 = odds18[:2460]\n",
    "odds17 = odds17[:2460]"
   ]
  },
  {
   "cell_type": "raw",
   "metadata": {},
   "source": [
    "Change pk (meaning no spread on game) to 0"
   ]
  },
  {
   "cell_type": "code",
   "execution_count": 118,
   "metadata": {
    "scrolled": false
   },
   "outputs": [
    {
     "name": "stderr",
     "output_type": "stream",
     "text": [
      "<ipython-input-118-e8f105891595>:3: SettingWithCopyWarning: \n",
      "A value is trying to be set on a copy of a slice from a DataFrame\n",
      "\n",
      "See the caveats in the documentation: https://pandas.pydata.org/pandas-docs/stable/user_guide/indexing.html#returning-a-view-versus-a-copy\n",
      "  odds21['Close'][ind] = 0\n",
      "<ipython-input-118-e8f105891595>:6: SettingWithCopyWarning: \n",
      "A value is trying to be set on a copy of a slice from a DataFrame\n",
      "\n",
      "See the caveats in the documentation: https://pandas.pydata.org/pandas-docs/stable/user_guide/indexing.html#returning-a-view-versus-a-copy\n",
      "  odds20['Close'][ind] = 0\n",
      "<ipython-input-118-e8f105891595>:9: SettingWithCopyWarning: \n",
      "A value is trying to be set on a copy of a slice from a DataFrame\n",
      "\n",
      "See the caveats in the documentation: https://pandas.pydata.org/pandas-docs/stable/user_guide/indexing.html#returning-a-view-versus-a-copy\n",
      "  odds19['Close'][ind] = 0\n",
      "<ipython-input-118-e8f105891595>:12: SettingWithCopyWarning: \n",
      "A value is trying to be set on a copy of a slice from a DataFrame\n",
      "\n",
      "See the caveats in the documentation: https://pandas.pydata.org/pandas-docs/stable/user_guide/indexing.html#returning-a-view-versus-a-copy\n",
      "  odds18['Close'][ind] = 0\n",
      "<ipython-input-118-e8f105891595>:15: SettingWithCopyWarning: \n",
      "A value is trying to be set on a copy of a slice from a DataFrame\n",
      "\n",
      "See the caveats in the documentation: https://pandas.pydata.org/pandas-docs/stable/user_guide/indexing.html#returning-a-view-versus-a-copy\n",
      "  odds17['Close'][ind] = 0\n"
     ]
    }
   ],
   "source": [
    "for ind in odds21.index:\n",
    "    if odds21['Close'][ind] == 'pk' or odds21['Close'][ind] == 'PK':\n",
    "        odds21['Close'][ind] = 0\n",
    "for ind in odds20.index:\n",
    "    if odds20['Close'][ind] == 'pk' or odds20['Close'][ind] == 'PK':\n",
    "        odds20['Close'][ind] = 0\n",
    "for ind in odds19.index:\n",
    "    if odds19['Close'][ind] == 'pk' or odds19['Close'][ind] == 'PK':\n",
    "        odds19['Close'][ind] = 0\n",
    "for ind in odds18.index:\n",
    "    if odds18['Close'][ind] == 'pk' or odds18['Close'][ind] == 'PK':\n",
    "        odds18['Close'][ind] = 0\n",
    "for ind in odds17.index:\n",
    "    if odds17['Close'][ind] == 'pk' or odds17['Close'][ind] == 'PK':\n",
    "        odds17['Close'][ind] = 0"
   ]
  },
  {
   "cell_type": "code",
   "execution_count": 119,
   "metadata": {},
   "outputs": [],
   "source": [
    "def convert_to_datetime(x, year):\n",
    "  y = str(x)\n",
    "  if x < 1000:\n",
    "    date = datetime(year=year, month=int(y[:-2]), day=int(y[-2:]))\n",
    "    return date.strftime(\"%Y-%m-%d\")\n",
    "  else:\n",
    "    date = datetime(year=year-1, month=int(y[:-2]), day=int(y[-2:]))\n",
    "    return date.strftime(\"%Y-%m-%d\")"
   ]
  },
  {
   "cell_type": "code",
   "execution_count": 120,
   "metadata": {},
   "outputs": [],
   "source": [
    "odds21['Date'] = odds21['Date'].apply(lambda x: convert_to_datetime(x, 2021))\n",
    "odds20['Date'] = odds20['Date'].apply(lambda x: convert_to_datetime(x, 2020))\n",
    "odds19['Date'] = odds19['Date'].apply(lambda x: convert_to_datetime(x, 2019))\n",
    "odds18['Date'] = odds18['Date'].apply(lambda x: convert_to_datetime(x, 2018))\n",
    "odds17['Date'] = odds17['Date'].apply(lambda x: convert_to_datetime(x, 2017))"
   ]
  },
  {
   "cell_type": "raw",
   "metadata": {},
   "source": [
    "Create new columns for each games spread and over under with the help of a function"
   ]
  },
  {
   "cell_type": "code",
   "execution_count": 121,
   "metadata": {},
   "outputs": [],
   "source": [
    "def make_spreads_overs(df):\n",
    "    spread_col = []\n",
    "    o_u_col = []\n",
    "    ind = 0\n",
    "    while ind < len(df) - 1:\n",
    "        pair = (float(df['Close'][ind]), float(df['Close'][ind + 1]))\n",
    "        spread_index = 0 if pair[0] < 120 else 1\n",
    "        spread = pair[spread_index]\n",
    "        o_u_index = 0 if pair[0] > 120 else 1\n",
    "        o_u = pair[o_u_index]\n",
    "    \n",
    "        if spread_index == 0:\n",
    "            spread_col.append(-spread)\n",
    "            spread_col.append(spread)\n",
    "            o_u_col.append(o_u)\n",
    "            o_u_col.append(o_u)\n",
    "        else:\n",
    "            spread_col.append(spread)\n",
    "            spread_col.append(-spread)\n",
    "            o_u_col.append(o_u)\n",
    "            o_u_col.append(o_u)\n",
    "        ind += 2\n",
    "    df['Spread'] = spread_col\n",
    "    df['Over/Under'] = o_u_col   \n"
   ]
  },
  {
   "cell_type": "code",
   "execution_count": 122,
   "metadata": {},
   "outputs": [],
   "source": [
    "make_spreads_overs(odds21)\n",
    "make_spreads_overs(odds20)\n",
    "make_spreads_overs(odds19)\n",
    "make_spreads_overs(odds18)\n",
    "make_spreads_overs(odds17)"
   ]
  },
  {
   "cell_type": "raw",
   "metadata": {},
   "source": [
    "Lets keep only the columns we need"
   ]
  },
  {
   "cell_type": "code",
   "execution_count": 123,
   "metadata": {},
   "outputs": [],
   "source": [
    "odds21 = odds21[['Date', 'Team', 'Over/Under', 'Spread', 'ML']]\n",
    "odds20 = odds20[['Date', 'Team', 'Over/Under', 'Spread', 'ML']]\n",
    "odds19 = odds19[['Date', 'Team', 'Over/Under', 'Spread', 'ML']]\n",
    "odds18 = odds18[['Date', 'Team', 'Over/Under', 'Spread', 'ML']]\n",
    "odds17 = odds17[['Date', 'Team', 'Over/Under', 'Spread', 'ML']]"
   ]
  },
  {
   "cell_type": "raw",
   "metadata": {},
   "source": [
    "Change the names of the teams to match the model dfs through mapping a dictionary"
   ]
  },
  {
   "cell_type": "code",
   "execution_count": 124,
   "metadata": {},
   "outputs": [],
   "source": [
    "team_dict = {'Atlanta':'Atlanta Hawks', 'Boston':'Boston Celtics', 'Brooklyn':'Brooklyn Nets','Charlotte':'Charlotte Hornets','Chicago':'Chicago Bulls','Cleveland':'Cleveland Cavaliers','Dallas':'Dallas Mavericks', 'Denver':'Denver Nuggets','Detroit':'Detroit Pistons',\n",
    "             'GoldenState':'Golden State Warriors', 'Golden State': 'Golden State Warriors', 'Houston':'Houston Rockets', 'Indiana':'Indiana Pacers','LAClippers':'LA Clippers', 'LALakers':'Los Angeles Lakers', 'LA Lakers': 'Los Angeles Lakers', 'Memphis':'Memphis Grizzlies','Miami':'Miami Heat','Milwaukee':'Milwaukee Bucks','Minnesota':'Minnesota Timberwolves',\n",
    "             'NewOrleans':'New Orleans Pelicans', 'New Orleans': 'New Orleans Pelicans', 'NewYork':'New York Knicks','New York':'New York Knicks','OklahomaCity':'Oklahoma City Thunder','Oklahoma City':'Oklahoma City Thunder','Orlando':'Orlando Magic','Philadelphia':'Philadelphia 76ers','Phoenix':'Phoenix Suns','Portland':'Portland Trail Blazers','Sacramento':'Sacramento Kings',\n",
    "             'SanAntonio':'San Antonio Spurs', 'San Antonio':'San Antonio Spurs','Toronto':'Toronto Raptors','Utah':'Utah Jazz','Washington':'Washington Wizards'}"
   ]
  },
  {
   "cell_type": "code",
   "execution_count": 125,
   "metadata": {
    "scrolled": true
   },
   "outputs": [],
   "source": [
    "odds21['Team'] = odds21['Team'].map(team_dict)\n",
    "odds20['Team'] = odds20['Team'].map(team_dict)\n",
    "odds19['Team'] = odds19['Team'].map(team_dict)\n",
    "odds18['Team'] = odds18['Team'].map(team_dict)\n",
    "odds17['Team'] = odds17['Team'].map(team_dict)"
   ]
  },
  {
   "cell_type": "raw",
   "metadata": {},
   "source": [
    "Fixing date mix-up "
   ]
  },
  {
   "cell_type": "code",
   "execution_count": 134,
   "metadata": {
    "collapsed": true
   },
   "outputs": [
    {
     "name": "stderr",
     "output_type": "stream",
     "text": [
      "<ipython-input-134-a3cebbefddc8>:1: SettingWithCopyWarning: \n",
      "A value is trying to be set on a copy of a slice from a DataFrame\n",
      "\n",
      "See the caveats in the documentation: https://pandas.pydata.org/pandas-docs/stable/user_guide/indexing.html#returning-a-view-versus-a-copy\n",
      "  odds21['Date'][76] = '2020-12-27'\n",
      "<ipython-input-134-a3cebbefddc8>:2: SettingWithCopyWarning: \n",
      "A value is trying to be set on a copy of a slice from a DataFrame\n",
      "\n",
      "See the caveats in the documentation: https://pandas.pydata.org/pandas-docs/stable/user_guide/indexing.html#returning-a-view-versus-a-copy\n",
      "  odds21['Date'][77] = '2020-12-27'\n"
     ]
    }
   ],
   "source": [
    "odds21['Date'][76] = '2020-12-27'\n",
    "odds21['Date'][77] = '2020-12-27'"
   ]
  },
  {
   "cell_type": "code",
   "execution_count": 136,
   "metadata": {},
   "outputs": [],
   "source": [
    "with open('data/pickles/cleanodds21.p', 'wb') as writefile: \n",
    "    pickle.dump(odds21, writefile)\n",
    "    \n",
    "with open('data/pickles/cleanodds20.p', 'wb') as writefile: \n",
    "    pickle.dump(odds20, writefile)\n",
    "    \n",
    "with open('data/pickles/cleanodds19.p', 'wb') as writefile: \n",
    "    pickle.dump(odds19, writefile)\n",
    "    \n",
    "with open('data/pickles/cleanodds18.p', 'wb') as writefile: \n",
    "    pickle.dump(odds18, writefile)\n",
    "    \n",
    "with open('data/pickles/cleanodds17.p', 'wb') as writefile: \n",
    "    pickle.dump(odds17, writefile)"
   ]
  },
  {
   "cell_type": "code",
   "execution_count": null,
   "metadata": {},
   "outputs": [],
   "source": []
  }
 ],
 "metadata": {
  "kernelspec": {
   "display_name": "Python (learn-env)",
   "language": "python",
   "name": "learn-env"
  },
  "language_info": {
   "codemirror_mode": {
    "name": "ipython",
    "version": 3
   },
   "file_extension": ".py",
   "mimetype": "text/x-python",
   "name": "python",
   "nbconvert_exporter": "python",
   "pygments_lexer": "ipython3",
   "version": "3.8.5"
  }
 },
 "nbformat": 4,
 "nbformat_minor": 4
}

{
 "cells": [
  {
   "cell_type": "code",
   "execution_count": 12,
   "metadata": {},
   "outputs": [],
   "source": [
    "import pandas as pd\n",
    "import pickle\n",
    "import numpy as np\n",
    "pd.set_option('display.max_columns', None)\n",
    "pd.set_option('display.max_rows', 30)\n",
    "from sklearn.ensemble import RandomForestClassifier\n",
    "from sklearn.model_selection import train_test_split\n",
    "from sklearn.linear_model import LogisticRegression\n",
    "from sklearn.preprocessing import StandardScaler\n",
    "from sklearn.metrics import accuracy_score, plot_confusion_matrix"
   ]
  },
  {
   "cell_type": "markdown",
   "metadata": {},
   "source": [
    "EVERYTHING FROM FEATURE ENGINEERING and ODDS DATA NOTEBOOK WILL GO HERE"
   ]
  },
  {
   "cell_type": "code",
   "execution_count": 2,
   "metadata": {},
   "outputs": [],
   "source": [
    "with open('data/pickles/model_df21.p', 'rb') as readfile: \n",
    "    model_df21 = pickle.load(readfile)\n",
    "    \n",
    "with open('data/pickles/model_df20.p', 'rb') as readfile: \n",
    "    model_df20 = pickle.load(readfile)\n",
    "    \n",
    "with open('data/pickles/model_df19.p', 'rb') as readfile: \n",
    "    model_df19 = pickle.load(readfile)\n",
    "    \n",
    "with open('data/pickles/model_df18.p', 'rb') as readfile: \n",
    "    model_df18 = pickle.load(readfile)\n",
    "    \n",
    "with open('data/pickles/model_df17.p', 'rb') as readfile: \n",
    "    model_df17 = pickle.load(readfile)"
   ]
  },
  {
   "cell_type": "code",
   "execution_count": 4,
   "metadata": {},
   "outputs": [],
   "source": [
    "def combine_team_games(df, keep_method='home'):\n",
    "    '''Combine a TEAM_ID-GAME_ID unique table into rows by game. Slow.\n",
    "\n",
    "        Parameters\n",
    "        ----------\n",
    "        df : Input DataFrame.\n",
    "        keep_method : {'home', 'away', 'winner', 'loser', ``None``}, default 'home'\n",
    "            - 'home' : Keep rows where TEAM_A is the home team.\n",
    "            - 'away' : Keep rows where TEAM_A is the away team.\n",
    "            - 'winner' : Keep rows where TEAM_A is the losing team.\n",
    "            - 'loser' : Keep rows where TEAM_A is the winning team.\n",
    "            - ``None`` : Keep all rows. Will result in an output DataFrame the same\n",
    "                length as the input DataFrame.\n",
    "                \n",
    "        Returns\n",
    "        -------\n",
    "        result : DataFrame\n",
    "    '''\n",
    "    # Join every row to all others with the same game ID.\n",
    "    joined = pd.merge(df, df, suffixes=['_Home', '_Away'],\n",
    "                      on=['GAME_ID', 'GAME_DATE'])\n",
    "    # Filter out any row that is joined to itself.\n",
    "    result = joined[joined.TEAM_ID_Home != joined.TEAM_ID_Away]\n",
    "    # Take action based on the keep_method flag.\n",
    "    if keep_method is None:\n",
    "        # Return all the rows.\n",
    "        pass\n",
    "    elif keep_method.lower() == 'home':\n",
    "        # Keep rows where TEAM_A is the home team.\n",
    "        result = result[result.MATCHUP_Home.str.contains(' vs. ')]\n",
    "    elif keep_method.lower() == 'away':\n",
    "        # Keep rows where TEAM_A is the away team.\n",
    "        result = result[result.MATCHUP_A.str.contains(' @ ')]\n",
    "    elif keep_method.lower() == 'winner':\n",
    "        result = result[result.WL_A == 'W']\n",
    "    elif keep_method.lower() == 'loser':\n",
    "        result = result[result.WL_A == 'L']\n",
    "    else:\n",
    "        raise ValueError(f'Invalid keep_method: {keep_method}')\n",
    "    return result\n"
   ]
  },
  {
   "cell_type": "raw",
   "metadata": {},
   "source": [
    "Use combine_team_games function to create new dataframes for testing"
   ]
  },
  {
   "cell_type": "code",
   "execution_count": 5,
   "metadata": {},
   "outputs": [],
   "source": [
    "testdf21 = combine_team_games(model_df21)\n",
    "testdf20 = combine_team_games(model_df20)\n",
    "testdf19 = combine_team_games(model_df19)\n",
    "testdf18 = combine_team_games(model_df18)\n",
    "testdf17 = combine_team_games(model_df17)"
   ]
  },
  {
   "cell_type": "raw",
   "metadata": {},
   "source": [
    "Drop columns that are not needed"
   ]
  },
  {
   "cell_type": "code",
   "execution_count": 6,
   "metadata": {},
   "outputs": [],
   "source": [
    "drop_columns = ['PTS Away_Home',\n",
    " 'PLUS_MINUS Away_Home',\n",
    " 'FG_PCT Away_Home',\n",
    " 'FG3_PCT Away_Home',\n",
    " 'FT_PCT Away_Home',\n",
    " 'EFG_PCT_y Away_Home',\n",
    " 'FTA_RATE Away_Home',\n",
    " 'TM_TOV_PCT_y Away_Home',\n",
    " 'OREB_PCT_y Away_Home',\n",
    " 'OPP_EFG_PCT Away_Home',\n",
    " 'OPP_FTA_RATE Away_Home',\n",
    " 'OPP_TOV_PCT Away_Home',\n",
    " 'OPP_OREB_PCT Away_Home',\n",
    " 'PIE Away_Home',\n",
    " 'OFF_RATING Away_Home',\n",
    " 'DEF_RATING Away_Home',\n",
    " 'NET_RATING Away_Home',\n",
    " 'TS_PCT Away_Home',\n",
    " 'PACE Away_Home',\n",
    " 'AST_TOV Away_Home',\n",
    " 'PTS_ALLOWED Away_Home',\n",
    "'PTS Home_Away',\n",
    " 'PLUS_MINUS Home_Away',\n",
    " 'FG_PCT Home_Away',\n",
    " 'FG3_PCT Home_Away',\n",
    " 'FT_PCT Home_Away',\n",
    " 'EFG_PCT_y Home_Away',\n",
    " 'FTA_RATE Home_Away',\n",
    " 'TM_TOV_PCT_y Home_Away',\n",
    " 'OREB_PCT_y Home_Away',\n",
    " 'OPP_EFG_PCT Home_Away',\n",
    " 'OPP_FTA_RATE Home_Away',\n",
    " 'OPP_TOV_PCT Home_Away',\n",
    " 'OPP_OREB_PCT Home_Away',\n",
    " 'PIE Home_Away',\n",
    " 'OFF_RATING Home_Away',\n",
    " 'DEF_RATING Home_Away',\n",
    " 'NET_RATING Home_Away',\n",
    " 'TS_PCT Home_Away',\n",
    " 'PACE Home_Away',\n",
    " 'AST_TOV Home_Away',\n",
    " 'PTS_ALLOWED Home_Away']"
   ]
  },
  {
   "cell_type": "code",
   "execution_count": 7,
   "metadata": {},
   "outputs": [],
   "source": [
    "testdf21.drop(labels = drop_columns, axis=1, inplace=True)\n",
    "testdf20.drop(labels = drop_columns, axis=1, inplace=True)\n",
    "testdf19.drop(labels = drop_columns, axis=1, inplace=True)\n",
    "testdf18.drop(labels = drop_columns, axis=1, inplace=True)\n",
    "testdf17.drop(labels = drop_columns, axis=1, inplace=True)"
   ]
  },
  {
   "cell_type": "raw",
   "metadata": {},
   "source": [
    "Combine testing dataframes into one dataframe"
   ]
  },
  {
   "cell_type": "code",
   "execution_count": 9,
   "metadata": {},
   "outputs": [],
   "source": [
    "testall = testdf21.append(testdf20)\n",
    "testall = testall.append(testdf19)\n",
    "testall = testall.append(testdf18)\n",
    "testall = testall.append(testdf17)"
   ]
  },
  {
   "cell_type": "code",
   "execution_count": 10,
   "metadata": {},
   "outputs": [],
   "source": [
    "test_columns = ['PTS LAST 5_Home',\n",
    " 'PLUS_MINUS LAST 5_Home',\n",
    "'FG_PCT LAST 5_Home',\n",
    " 'FG3_PCT LAST 5_Home',\n",
    " 'FT_PCT LAST 5_Home',\n",
    " 'EFG_PCT_y LAST 5_Home',\n",
    " 'FTA_RATE LAST 5_Home',\n",
    " 'TM_TOV_PCT_y LAST 5_Home',\n",
    " 'OREB_PCT_y LAST 5_Home',\n",
    " 'OPP_EFG_PCT LAST 5_Home',\n",
    " 'OPP_FTA_RATE LAST 5_Home',\n",
    " 'OPP_TOV_PCT LAST 5_Home',\n",
    " 'OPP_OREB_PCT LAST 5_Home',\n",
    " 'PIE LAST 5_Home',\n",
    " 'OFF_RATING LAST 5_Home',\n",
    " 'DEF_RATING LAST 5_Home',\n",
    " 'NET_RATING LAST 5_Home',\n",
    " 'TS_PCT LAST 5_Home',\n",
    " 'PACE LAST 5_Home',\n",
    " 'AST_TOV LAST 5_Home',\n",
    " 'PTS_ALLOWED LAST 5_Home',\n",
    " 'PTS LAST 10_Home',\n",
    " 'PLUS_MINUS LAST 10_Home',\n",
    "'FG_PCT LAST 10_Home',\n",
    " 'FG3_PCT LAST 10_Home',\n",
    " 'FT_PCT LAST 10_Home',\n",
    " 'EFG_PCT_y LAST 10_Home',\n",
    " 'FTA_RATE LAST 10_Home',\n",
    " 'TM_TOV_PCT_y LAST 10_Home',\n",
    " 'OREB_PCT_y LAST 10_Home',\n",
    " 'OPP_EFG_PCT LAST 10_Home',\n",
    " 'OPP_FTA_RATE LAST 10_Home',\n",
    " 'OPP_TOV_PCT LAST 10_Home',\n",
    " 'OPP_OREB_PCT LAST 10_Home',\n",
    " 'PIE LAST 10_Home',\n",
    " 'OFF_RATING LAST 10_Home',\n",
    " 'DEF_RATING LAST 10_Home',\n",
    " 'NET_RATING LAST 10_Home',\n",
    " 'TS_PCT LAST 10_Home',\n",
    " 'PACE LAST 10_Home',\n",
    " 'AST_TOV LAST 10_Home',\n",
    " 'PTS_ALLOWED LAST 10_Home',\n",
    " 'HOME_TEAM_Home',\n",
    " 'PTS Season_Home',\n",
    " 'PLUS_MINUS Season_Home',\n",
    "'FG_PCT Season_Home',\n",
    " 'FG3_PCT Season_Home',\n",
    " 'FT_PCT Season_Home',\n",
    " 'EFG_PCT_y Season_Home',\n",
    " 'FTA_RATE Season_Home',\n",
    " 'TM_TOV_PCT_y Season_Home',\n",
    " 'OREB_PCT_y Season_Home',\n",
    " 'OPP_EFG_PCT Season_Home',\n",
    " 'OPP_FTA_RATE Season_Home',\n",
    " 'OPP_TOV_PCT Season_Home',\n",
    " 'OPP_OREB_PCT Season_Home',\n",
    " 'PIE Season_Home',\n",
    " 'OFF_RATING Season_Home',\n",
    " 'DEF_RATING Season_Home',\n",
    " 'NET_RATING Season_Home',\n",
    " 'TS_PCT Season_Home',\n",
    " 'PACE Season_Home',\n",
    " 'AST_TOV Season_Home',\n",
    " 'PTS_ALLOWED Season_Home',\n",
    " 'WIN_%_Home',\n",
    " 'back_to_back_Home', \n",
    "'PTS Home_Home',\n",
    " 'PLUS_MINUS Home_Home',\n",
    " 'FG_PCT Home_Home',\n",
    " 'FG3_PCT Home_Home',\n",
    " 'FT_PCT Home_Home',\n",
    " 'EFG_PCT_y Home_Home',\n",
    " 'FTA_RATE Home_Home',\n",
    " 'TM_TOV_PCT_y Home_Home',\n",
    " 'OREB_PCT_y Home_Home',\n",
    " 'OPP_EFG_PCT Home_Home',\n",
    " 'OPP_FTA_RATE Home_Home',\n",
    " 'OPP_TOV_PCT Home_Home',\n",
    " 'OPP_OREB_PCT Home_Home',\n",
    " 'PIE Home_Home',\n",
    " 'OFF_RATING Home_Home',\n",
    " 'DEF_RATING Home_Home',\n",
    " 'NET_RATING Home_Home',\n",
    " 'TS_PCT Home_Home',\n",
    " 'PACE Home_Home',\n",
    " 'AST_TOV Home_Home',\n",
    " 'PTS_ALLOWED Home_Home',\n",
    "  'PTS LAST 5_Away',\n",
    "'FG_PCT LAST 5_Away',\n",
    " 'FG3_PCT LAST 5_Away',\n",
    " 'FT_PCT LAST 5_Away',\n",
    " 'PLUS_MINUS LAST 5_Away',\n",
    " 'EFG_PCT_y LAST 5_Away',\n",
    " 'FTA_RATE LAST 5_Away',\n",
    " 'TM_TOV_PCT_y LAST 5_Away',\n",
    " 'OREB_PCT_y LAST 5_Away',\n",
    " 'OPP_EFG_PCT LAST 5_Away',\n",
    " 'OPP_FTA_RATE LAST 5_Away',\n",
    " 'OPP_TOV_PCT LAST 5_Away',\n",
    " 'OPP_OREB_PCT LAST 5_Away',\n",
    " 'PIE LAST 5_Away',\n",
    " 'OFF_RATING LAST 5_Away',\n",
    " 'DEF_RATING LAST 5_Away',\n",
    " 'NET_RATING LAST 5_Away',\n",
    " 'TS_PCT LAST 5_Away',\n",
    " 'PACE LAST 5_Away',\n",
    " 'AST_TOV LAST 5_Away',\n",
    " 'PTS_ALLOWED LAST 5_Away',\n",
    " 'PTS LAST 10_Away',\n",
    " 'PLUS_MINUS LAST 10_Away',\n",
    "'FG_PCT LAST 10_Away',\n",
    " 'FG3_PCT LAST 10_Away',\n",
    " 'FT_PCT LAST 10_Away',\n",
    " 'EFG_PCT_y LAST 10_Away',\n",
    " 'FTA_RATE LAST 10_Away',\n",
    " 'TM_TOV_PCT_y LAST 10_Away',\n",
    " 'OREB_PCT_y LAST 10_Away',\n",
    " 'OPP_EFG_PCT LAST 10_Away',\n",
    " 'OPP_FTA_RATE LAST 10_Away',\n",
    " 'OPP_TOV_PCT LAST 10_Away',\n",
    " 'OPP_OREB_PCT LAST 10_Away',\n",
    " 'PIE LAST 10_Away',\n",
    " 'OFF_RATING LAST 10_Away',\n",
    " 'DEF_RATING LAST 10_Away',\n",
    " 'NET_RATING LAST 10_Away',\n",
    " 'TS_PCT LAST 10_Away',\n",
    " 'PACE LAST 10_Away',\n",
    " 'AST_TOV LAST 10_Away',\n",
    " 'PTS_ALLOWED LAST 10_Away',\n",
    " 'HOME_TEAM_Away',\n",
    " 'PTS Season_Away',\n",
    " 'PLUS_MINUS Season_Away',\n",
    "'FG_PCT Season_Away',\n",
    " 'FG3_PCT Season_Away',\n",
    " 'FT_PCT Season_Away',\n",
    " 'EFG_PCT_y Season_Away',\n",
    " 'FTA_RATE Season_Away',\n",
    " 'TM_TOV_PCT_y Season_Away',\n",
    " 'OREB_PCT_y Season_Away',\n",
    " 'OPP_EFG_PCT Season_Away',\n",
    " 'OPP_FTA_RATE Season_Away',\n",
    " 'OPP_TOV_PCT Season_Away',\n",
    " 'OPP_OREB_PCT Season_Away',\n",
    " 'PIE Season_Away',\n",
    " 'OFF_RATING Season_Away',\n",
    " 'DEF_RATING Season_Away',\n",
    " 'NET_RATING Season_Away',\n",
    " 'TS_PCT Season_Away',\n",
    " 'PACE Season_Away',\n",
    " 'AST_TOV Season_Away',\n",
    " 'PTS_ALLOWED Season_Away',\n",
    "  'WIN_%_Away',\n",
    "  'back_to_back_Away',\n",
    "  'PTS Away_Away',\n",
    " 'PLUS_MINUS Away_Away',\n",
    " 'FG_PCT Away_Away',\n",
    " 'FG3_PCT Away_Away',\n",
    " 'FT_PCT Away_Away',\n",
    " 'EFG_PCT_y Away_Away',\n",
    " 'FTA_RATE Away_Away',\n",
    " 'TM_TOV_PCT_y Away_Away',\n",
    " 'OREB_PCT_y Away_Away',\n",
    " 'OPP_EFG_PCT Away_Away',\n",
    " 'OPP_FTA_RATE Away_Away',\n",
    " 'OPP_TOV_PCT Away_Away',\n",
    " 'OPP_OREB_PCT Away_Away',\n",
    " 'PIE Away_Away',\n",
    " 'OFF_RATING Away_Away',\n",
    " 'DEF_RATING Away_Away',\n",
    " 'NET_RATING Away_Away',\n",
    " 'TS_PCT Away_Away',\n",
    " 'PACE Away_Away',\n",
    " 'AST_TOV Away_Away',\n",
    " 'PTS_ALLOWED Away_Away']"
   ]
  },
  {
   "cell_type": "raw",
   "metadata": {},
   "source": [
    "Create train test sets using only necesarry columns, drop all rows with Nan values (first 5 and 10 games of season)"
   ]
  },
  {
   "cell_type": "code",
   "execution_count": 17,
   "metadata": {},
   "outputs": [],
   "source": [
    "testall.dropna(inplace=True)"
   ]
  },
  {
   "cell_type": "code",
   "execution_count": 18,
   "metadata": {},
   "outputs": [],
   "source": [
    "X = testall[test_columns]\n",
    "y = testall['WIN_Home']"
   ]
  },
  {
   "cell_type": "code",
   "execution_count": null,
   "metadata": {},
   "outputs": [],
   "source": []
  },
  {
   "cell_type": "code",
   "execution_count": 19,
   "metadata": {},
   "outputs": [],
   "source": [
    "X_train, X_test, y_train, y_test = train_test_split(X, y, random_state=42)"
   ]
  },
  {
   "cell_type": "code",
   "execution_count": 20,
   "metadata": {
    "scrolled": true
   },
   "outputs": [
    {
     "data": {
      "text/plain": [
       "LogisticRegression(max_iter=5000, penalty='l1', solver='saga')"
      ]
     },
     "execution_count": 20,
     "metadata": {},
     "output_type": "execute_result"
    }
   ],
   "source": [
    "lr = LogisticRegression(penalty='l1', solver='saga', max_iter = 5000)\n",
    "lr.fit(X_train, y_train)"
   ]
  },
  {
   "cell_type": "raw",
   "metadata": {},
   "source": [
    "Find columns that lasso regression deems to be important"
   ]
  },
  {
   "cell_type": "code",
   "execution_count": 21,
   "metadata": {},
   "outputs": [],
   "source": [
    "co_v = (lr.coef_).tolist()\n",
    "co_v = co_v[0]\n",
    "\n",
    "keys = list(X.columns) \n",
    "coef_dict = {keys[i] : co_v[i] for i in range(len(keys))}"
   ]
  },
  {
   "cell_type": "code",
   "execution_count": 22,
   "metadata": {},
   "outputs": [],
   "source": [
    "lasso_columns = []\n",
    "for key,value in coef_dict.items():\n",
    "        if value > 0:\n",
    "            lasso_columns.append(key)"
   ]
  },
  {
   "cell_type": "raw",
   "metadata": {},
   "source": [
    "New train/test split with just lasso columns"
   ]
  },
  {
   "cell_type": "code",
   "execution_count": 24,
   "metadata": {},
   "outputs": [],
   "source": [
    "X_lasso = testall[lasso_columns]\n",
    "y_lasso = testall['WIN_Home']\n",
    "X_train, X_test, y_train, y_test = train_test_split(X_lasso, y_lasso, random_state=42)"
   ]
  },
  {
   "cell_type": "code",
   "execution_count": 25,
   "metadata": {},
   "outputs": [],
   "source": [
    "lr.fit(X_train, y_train)\n",
    "y_pred = lr.predict(X_test)"
   ]
  },
  {
   "cell_type": "code",
   "execution_count": 26,
   "metadata": {},
   "outputs": [
    {
     "data": {
      "text/plain": [
       "<sklearn.metrics._plot.confusion_matrix.ConfusionMatrixDisplay at 0x7f9d559702e0>"
      ]
     },
     "execution_count": 26,
     "metadata": {},
     "output_type": "execute_result"
    },
    {
     "data": {
      "image/png": "[encoded data removed]",
      "text/plain": [
       "<Figure size 432x288 with 2 Axes>"
      ]
     },
     "metadata": {
      "needs_background": "light"
     },
     "output_type": "display_data"
    }
   ],
   "source": [
    "plot_confusion_matrix(lr, X_test, y_test)"
   ]
  },
  {
   "cell_type": "code",
   "execution_count": 27,
   "metadata": {},
   "outputs": [
    {
     "data": {
      "text/plain": [
       "0.6508313539192399"
      ]
     },
     "execution_count": 27,
     "metadata": {},
     "output_type": "execute_result"
    }
   ],
   "source": [
    "accuracy_score(y_test, y_pred)"
   ]
  },
  {
   "cell_type": "raw",
   "metadata": {},
   "source": [
    "Model is predicting the winner of games at 65% accuracy rate"
   ]
  },
  {
   "cell_type": "raw",
   "metadata": {},
   "source": [
    "NEXT STEPS, RUN THROUGH ITERATIONS OF MODEL PREDICTING SPREAD AND OVER UNDERS, ADD IN FEATURE THAT HAS NET RATING OF EACH TEAMS STARTERS"
   ]
  },
  {
   "cell_type": "code",
   "execution_count": null,
   "metadata": {},
   "outputs": [],
   "source": []
  }
 ],
 "metadata": {
  "kernelspec": {
   "display_name": "Python (learn-env)",
   "language": "python",
   "name": "learn-env"
  },
  "language_info": {
   "codemirror_mode": {
    "name": "ipython",
    "version": 3
   },
   "file_extension": ".py",
   "mimetype": "text/x-python",
   "name": "python",
   "nbconvert_exporter": "python",
   "pygments_lexer": "ipython3",
   "version": "3.8.5"
  }
 },
 "nbformat": 4,
 "nbformat_minor": 4
}

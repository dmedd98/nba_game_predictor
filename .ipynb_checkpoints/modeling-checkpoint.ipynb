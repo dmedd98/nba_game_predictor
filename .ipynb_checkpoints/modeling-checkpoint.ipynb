{
 "cells": [
  {
   "cell_type": "code",
   "execution_count": 133,
   "metadata": {},
   "outputs": [],
   "source": [
    "import pickle\n",
    "import pandas as pd\n",
    "import numpy as np"
   ]
  },
  {
   "cell_type": "code",
   "execution_count": 134,
   "metadata": {},
   "outputs": [],
   "source": [
    "with open('data/pickles/model_df21.p', 'rb') as readfile: \n",
    "    model_df21 = pickle.load(readfile)\n",
    "    \n",
    "with open('data/pickles/model_df20.p', 'rb') as readfile: \n",
    "    model_df20 = pickle.load(readfile)\n",
    "    \n",
    "with open('data/pickles/model_df19.p', 'rb') as readfile: \n",
    "    model_df19 = pickle.load(readfile)\n",
    "    \n",
    "with open('data/pickles/model_df18.p', 'rb') as readfile: \n",
    "    model_df18 = pickle.load(readfile)\n",
    "    \n",
    "with open('data/pickles/model_df17.p', 'rb') as readfile: \n",
    "    model_df17 = pickle.load(readfile)"
   ]
  },
  {
   "cell_type": "code",
   "execution_count": 135,
   "metadata": {},
   "outputs": [
    {
     "data": {
      "text/html": [
       "<div>\n",
       "<style scoped>\n",
       "    .dataframe tbody tr th:only-of-type {\n",
       "        vertical-align: middle;\n",
       "    }\n",
       "\n",
       "    .dataframe tbody tr th {\n",
       "        vertical-align: top;\n",
       "    }\n",
       "\n",
       "    .dataframe thead th {\n",
       "        text-align: right;\n",
       "    }\n",
       "</style>\n",
       "<table border=\"1\" class=\"dataframe\">\n",
       "  <thead>\n",
       "    <tr style=\"text-align: right;\">\n",
       "      <th></th>\n",
       "      <th>TEAM_ID</th>\n",
       "      <th>TEAM_NAME_x</th>\n",
       "      <th>GAME_ID</th>\n",
       "      <th>GAME_DATE</th>\n",
       "      <th>MATCHUP</th>\n",
       "      <th>WL</th>\n",
       "      <th>PTS</th>\n",
       "      <th>PLUS_MINUS</th>\n",
       "      <th>EFG_PCT_y</th>\n",
       "      <th>FTA_RATE</th>\n",
       "      <th>...</th>\n",
       "      <th>PACE Season</th>\n",
       "      <th>AST_TOV Season</th>\n",
       "      <th>PTS_ALLOWED Season</th>\n",
       "      <th>WIN</th>\n",
       "      <th>LOSS</th>\n",
       "      <th>WINS_SEASON</th>\n",
       "      <th>LOSS_SEASON</th>\n",
       "      <th>WIN_%</th>\n",
       "      <th>previous_day</th>\n",
       "      <th>back_to_back</th>\n",
       "    </tr>\n",
       "  </thead>\n",
       "  <tbody>\n",
       "    <tr>\n",
       "      <th>0</th>\n",
       "      <td>1610612744</td>\n",
       "      <td>Golden State Warriors</td>\n",
       "      <td>0022000001</td>\n",
       "      <td>2020-12-22</td>\n",
       "      <td>GSW @ BKN</td>\n",
       "      <td>L</td>\n",
       "      <td>99</td>\n",
       "      <td>-26.0</td>\n",
       "      <td>0.424</td>\n",
       "      <td>0.232</td>\n",
       "      <td>...</td>\n",
       "      <td>NaN</td>\n",
       "      <td>NaN</td>\n",
       "      <td>NaN</td>\n",
       "      <td>0</td>\n",
       "      <td>1</td>\n",
       "      <td>NaN</td>\n",
       "      <td>NaN</td>\n",
       "      <td>NaN</td>\n",
       "      <td>2020-12-21</td>\n",
       "      <td>0</td>\n",
       "    </tr>\n",
       "    <tr>\n",
       "      <th>1</th>\n",
       "      <td>1610612751</td>\n",
       "      <td>Brooklyn Nets</td>\n",
       "      <td>0022000001</td>\n",
       "      <td>2020-12-22</td>\n",
       "      <td>BKN vs. GSW</td>\n",
       "      <td>W</td>\n",
       "      <td>125</td>\n",
       "      <td>26.0</td>\n",
       "      <td>0.538</td>\n",
       "      <td>0.348</td>\n",
       "      <td>...</td>\n",
       "      <td>NaN</td>\n",
       "      <td>NaN</td>\n",
       "      <td>NaN</td>\n",
       "      <td>1</td>\n",
       "      <td>0</td>\n",
       "      <td>NaN</td>\n",
       "      <td>NaN</td>\n",
       "      <td>NaN</td>\n",
       "      <td>2020-12-21</td>\n",
       "      <td>0</td>\n",
       "    </tr>\n",
       "    <tr>\n",
       "      <th>2</th>\n",
       "      <td>1610612747</td>\n",
       "      <td>Los Angeles Lakers</td>\n",
       "      <td>0022000002</td>\n",
       "      <td>2020-12-22</td>\n",
       "      <td>LAL vs. LAC</td>\n",
       "      <td>L</td>\n",
       "      <td>109</td>\n",
       "      <td>-7.0</td>\n",
       "      <td>0.525</td>\n",
       "      <td>0.383</td>\n",
       "      <td>...</td>\n",
       "      <td>NaN</td>\n",
       "      <td>NaN</td>\n",
       "      <td>NaN</td>\n",
       "      <td>0</td>\n",
       "      <td>1</td>\n",
       "      <td>NaN</td>\n",
       "      <td>NaN</td>\n",
       "      <td>NaN</td>\n",
       "      <td>2020-12-21</td>\n",
       "      <td>0</td>\n",
       "    </tr>\n",
       "    <tr>\n",
       "      <th>3</th>\n",
       "      <td>1610612746</td>\n",
       "      <td>LA Clippers</td>\n",
       "      <td>0022000002</td>\n",
       "      <td>2020-12-22</td>\n",
       "      <td>LAC @ LAL</td>\n",
       "      <td>W</td>\n",
       "      <td>116</td>\n",
       "      <td>7.0</td>\n",
       "      <td>0.548</td>\n",
       "      <td>0.204</td>\n",
       "      <td>...</td>\n",
       "      <td>NaN</td>\n",
       "      <td>NaN</td>\n",
       "      <td>NaN</td>\n",
       "      <td>1</td>\n",
       "      <td>0</td>\n",
       "      <td>NaN</td>\n",
       "      <td>NaN</td>\n",
       "      <td>NaN</td>\n",
       "      <td>2020-12-21</td>\n",
       "      <td>0</td>\n",
       "    </tr>\n",
       "    <tr>\n",
       "      <th>4</th>\n",
       "      <td>1610612749</td>\n",
       "      <td>Milwaukee Bucks</td>\n",
       "      <td>0022000003</td>\n",
       "      <td>2020-12-23</td>\n",
       "      <td>MIL @ BOS</td>\n",
       "      <td>L</td>\n",
       "      <td>121</td>\n",
       "      <td>-1.0</td>\n",
       "      <td>0.589</td>\n",
       "      <td>0.200</td>\n",
       "      <td>...</td>\n",
       "      <td>NaN</td>\n",
       "      <td>NaN</td>\n",
       "      <td>NaN</td>\n",
       "      <td>0</td>\n",
       "      <td>1</td>\n",
       "      <td>NaN</td>\n",
       "      <td>NaN</td>\n",
       "      <td>NaN</td>\n",
       "      <td>2020-12-22</td>\n",
       "      <td>0</td>\n",
       "    </tr>\n",
       "    <tr>\n",
       "      <th>...</th>\n",
       "      <td>...</td>\n",
       "      <td>...</td>\n",
       "      <td>...</td>\n",
       "      <td>...</td>\n",
       "      <td>...</td>\n",
       "      <td>...</td>\n",
       "      <td>...</td>\n",
       "      <td>...</td>\n",
       "      <td>...</td>\n",
       "      <td>...</td>\n",
       "      <td>...</td>\n",
       "      <td>...</td>\n",
       "      <td>...</td>\n",
       "      <td>...</td>\n",
       "      <td>...</td>\n",
       "      <td>...</td>\n",
       "      <td>...</td>\n",
       "      <td>...</td>\n",
       "      <td>...</td>\n",
       "      <td>...</td>\n",
       "      <td>...</td>\n",
       "    </tr>\n",
       "    <tr>\n",
       "      <th>2155</th>\n",
       "      <td>1610612759</td>\n",
       "      <td>San Antonio Spurs</td>\n",
       "      <td>0022001078</td>\n",
       "      <td>2021-05-16</td>\n",
       "      <td>SAS vs. PHX</td>\n",
       "      <td>L</td>\n",
       "      <td>121</td>\n",
       "      <td>-2.0</td>\n",
       "      <td>0.546</td>\n",
       "      <td>0.194</td>\n",
       "      <td>...</td>\n",
       "      <td>99.425070</td>\n",
       "      <td>2.354085</td>\n",
       "      <td>112.676056</td>\n",
       "      <td>0</td>\n",
       "      <td>1</td>\n",
       "      <td>33.0</td>\n",
       "      <td>38.0</td>\n",
       "      <td>0.338684</td>\n",
       "      <td>2021-05-15</td>\n",
       "      <td>1</td>\n",
       "    </tr>\n",
       "    <tr>\n",
       "      <th>2156</th>\n",
       "      <td>1610612761</td>\n",
       "      <td>Toronto Raptors</td>\n",
       "      <td>0022001079</td>\n",
       "      <td>2021-05-16</td>\n",
       "      <td>TOR vs. IND</td>\n",
       "      <td>L</td>\n",
       "      <td>113</td>\n",
       "      <td>-12.0</td>\n",
       "      <td>0.464</td>\n",
       "      <td>0.299</td>\n",
       "      <td>...</td>\n",
       "      <td>99.487042</td>\n",
       "      <td>1.930141</td>\n",
       "      <td>111.549296</td>\n",
       "      <td>0</td>\n",
       "      <td>1</td>\n",
       "      <td>27.0</td>\n",
       "      <td>44.0</td>\n",
       "      <td>0.276136</td>\n",
       "      <td>2021-05-15</td>\n",
       "      <td>0</td>\n",
       "    </tr>\n",
       "    <tr>\n",
       "      <th>2157</th>\n",
       "      <td>1610612754</td>\n",
       "      <td>Indiana Pacers</td>\n",
       "      <td>0022001079</td>\n",
       "      <td>2021-05-16</td>\n",
       "      <td>IND @ TOR</td>\n",
       "      <td>W</td>\n",
       "      <td>125</td>\n",
       "      <td>12.0</td>\n",
       "      <td>0.584</td>\n",
       "      <td>0.189</td>\n",
       "      <td>...</td>\n",
       "      <td>102.019437</td>\n",
       "      <td>2.176620</td>\n",
       "      <td>115.380282</td>\n",
       "      <td>1</td>\n",
       "      <td>0</td>\n",
       "      <td>33.0</td>\n",
       "      <td>38.0</td>\n",
       "      <td>0.338684</td>\n",
       "      <td>2021-05-15</td>\n",
       "      <td>1</td>\n",
       "    </tr>\n",
       "    <tr>\n",
       "      <th>2158</th>\n",
       "      <td>1610612764</td>\n",
       "      <td>Washington Wizards</td>\n",
       "      <td>0022001080</td>\n",
       "      <td>2021-05-16</td>\n",
       "      <td>WAS vs. CHA</td>\n",
       "      <td>W</td>\n",
       "      <td>115</td>\n",
       "      <td>5.0</td>\n",
       "      <td>0.538</td>\n",
       "      <td>0.231</td>\n",
       "      <td>...</td>\n",
       "      <td>104.698310</td>\n",
       "      <td>1.963099</td>\n",
       "      <td>118.591549</td>\n",
       "      <td>1</td>\n",
       "      <td>0</td>\n",
       "      <td>33.0</td>\n",
       "      <td>38.0</td>\n",
       "      <td>0.338684</td>\n",
       "      <td>2021-05-15</td>\n",
       "      <td>0</td>\n",
       "    </tr>\n",
       "    <tr>\n",
       "      <th>2159</th>\n",
       "      <td>1610612766</td>\n",
       "      <td>Charlotte Hornets</td>\n",
       "      <td>0022001080</td>\n",
       "      <td>2021-05-16</td>\n",
       "      <td>CHA @ WAS</td>\n",
       "      <td>L</td>\n",
       "      <td>110</td>\n",
       "      <td>-5.0</td>\n",
       "      <td>0.468</td>\n",
       "      <td>0.255</td>\n",
       "      <td>...</td>\n",
       "      <td>98.975775</td>\n",
       "      <td>1.988169</td>\n",
       "      <td>111.338028</td>\n",
       "      <td>0</td>\n",
       "      <td>1</td>\n",
       "      <td>33.0</td>\n",
       "      <td>38.0</td>\n",
       "      <td>0.338684</td>\n",
       "      <td>2021-05-15</td>\n",
       "      <td>1</td>\n",
       "    </tr>\n",
       "  </tbody>\n",
       "</table>\n",
       "<p>2160 rows × 86 columns</p>\n",
       "</div>"
      ],
      "text/plain": [
       "         TEAM_ID            TEAM_NAME_x     GAME_ID   GAME_DATE      MATCHUP  \\\n",
       "0     1610612744  Golden State Warriors  0022000001  2020-12-22    GSW @ BKN   \n",
       "1     1610612751          Brooklyn Nets  0022000001  2020-12-22  BKN vs. GSW   \n",
       "2     1610612747     Los Angeles Lakers  0022000002  2020-12-22  LAL vs. LAC   \n",
       "3     1610612746            LA Clippers  0022000002  2020-12-22    LAC @ LAL   \n",
       "4     1610612749        Milwaukee Bucks  0022000003  2020-12-23    MIL @ BOS   \n",
       "...          ...                    ...         ...         ...          ...   \n",
       "2155  1610612759      San Antonio Spurs  0022001078  2021-05-16  SAS vs. PHX   \n",
       "2156  1610612761        Toronto Raptors  0022001079  2021-05-16  TOR vs. IND   \n",
       "2157  1610612754         Indiana Pacers  0022001079  2021-05-16    IND @ TOR   \n",
       "2158  1610612764     Washington Wizards  0022001080  2021-05-16  WAS vs. CHA   \n",
       "2159  1610612766      Charlotte Hornets  0022001080  2021-05-16    CHA @ WAS   \n",
       "\n",
       "     WL  PTS  PLUS_MINUS  EFG_PCT_y  FTA_RATE  ...  PACE Season  \\\n",
       "0     L   99       -26.0      0.424     0.232  ...          NaN   \n",
       "1     W  125        26.0      0.538     0.348  ...          NaN   \n",
       "2     L  109        -7.0      0.525     0.383  ...          NaN   \n",
       "3     W  116         7.0      0.548     0.204  ...          NaN   \n",
       "4     L  121        -1.0      0.589     0.200  ...          NaN   \n",
       "...  ..  ...         ...        ...       ...  ...          ...   \n",
       "2155  L  121        -2.0      0.546     0.194  ...    99.425070   \n",
       "2156  L  113       -12.0      0.464     0.299  ...    99.487042   \n",
       "2157  W  125        12.0      0.584     0.189  ...   102.019437   \n",
       "2158  W  115         5.0      0.538     0.231  ...   104.698310   \n",
       "2159  L  110        -5.0      0.468     0.255  ...    98.975775   \n",
       "\n",
       "      AST_TOV Season  PTS_ALLOWED Season  WIN  LOSS  WINS_SEASON  LOSS_SEASON  \\\n",
       "0                NaN                 NaN    0     1          NaN          NaN   \n",
       "1                NaN                 NaN    1     0          NaN          NaN   \n",
       "2                NaN                 NaN    0     1          NaN          NaN   \n",
       "3                NaN                 NaN    1     0          NaN          NaN   \n",
       "4                NaN                 NaN    0     1          NaN          NaN   \n",
       "...              ...                 ...  ...   ...          ...          ...   \n",
       "2155        2.354085          112.676056    0     1         33.0         38.0   \n",
       "2156        1.930141          111.549296    0     1         27.0         44.0   \n",
       "2157        2.176620          115.380282    1     0         33.0         38.0   \n",
       "2158        1.963099          118.591549    1     0         33.0         38.0   \n",
       "2159        1.988169          111.338028    0     1         33.0         38.0   \n",
       "\n",
       "         WIN_%  previous_day  back_to_back  \n",
       "0          NaN    2020-12-21             0  \n",
       "1          NaN    2020-12-21             0  \n",
       "2          NaN    2020-12-21             0  \n",
       "3          NaN    2020-12-21             0  \n",
       "4          NaN    2020-12-22             0  \n",
       "...        ...           ...           ...  \n",
       "2155  0.338684    2021-05-15             1  \n",
       "2156  0.276136    2021-05-15             0  \n",
       "2157  0.338684    2021-05-15             1  \n",
       "2158  0.338684    2021-05-15             0  \n",
       "2159  0.338684    2021-05-15             1  \n",
       "\n",
       "[2160 rows x 86 columns]"
      ]
     },
     "execution_count": 135,
     "metadata": {},
     "output_type": "execute_result"
    }
   ],
   "source": [
    "model_df21"
   ]
  },
  {
   "cell_type": "code",
   "execution_count": 136,
   "metadata": {},
   "outputs": [],
   "source": [
    "def combine_team_games(df, keep_method='home'):\n",
    "    '''Combine a TEAM_ID-GAME_ID unique table into rows by game. Slow.\n",
    "\n",
    "        Parameters\n",
    "        ----------\n",
    "        df : Input DataFrame.\n",
    "        keep_method : {'home', 'away', 'winner', 'loser', ``None``}, default 'home'\n",
    "            - 'home' : Keep rows where TEAM_A is the home team.\n",
    "            - 'away' : Keep rows where TEAM_A is the away team.\n",
    "            - 'winner' : Keep rows where TEAM_A is the losing team.\n",
    "            - 'loser' : Keep rows where TEAM_A is the winning team.\n",
    "            - ``None`` : Keep all rows. Will result in an output DataFrame the same\n",
    "                length as the input DataFrame.\n",
    "                \n",
    "        Returns\n",
    "        -------\n",
    "        result : DataFrame\n",
    "    '''\n",
    "    # Join every row to all others with the same game ID.\n",
    "    joined = pd.merge(df, df, suffixes=['_Home', '_Away'],\n",
    "                      on=['GAME_ID', 'GAME_DATE'])\n",
    "    # Filter out any row that is joined to itself.\n",
    "    result = joined[joined.TEAM_ID_Home != joined.TEAM_ID_Away]\n",
    "    # Take action based on the keep_method flag.\n",
    "    if keep_method is None:\n",
    "        # Return all the rows.\n",
    "        pass\n",
    "    elif keep_method.lower() == 'home':\n",
    "        # Keep rows where TEAM_A is the home team.\n",
    "        result = result[result.MATCHUP_Home.str.contains(' vs. ')]\n",
    "    elif keep_method.lower() == 'away':\n",
    "        # Keep rows where TEAM_A is the away team.\n",
    "        result = result[result.MATCHUP_A.str.contains(' @ ')]\n",
    "    elif keep_method.lower() == 'winner':\n",
    "        result = result[result.WL_A == 'W']\n",
    "    elif keep_method.lower() == 'loser':\n",
    "        result = result[result.WL_A == 'L']\n",
    "    else:\n",
    "        raise ValueError(f'Invalid keep_method: {keep_method}')\n",
    "    return result\n"
   ]
  },
  {
   "cell_type": "code",
   "execution_count": 137,
   "metadata": {},
   "outputs": [],
   "source": [
    "testdf21 = combine_team_games(model_df21)\n",
    "testdf20 = combine_team_games(model_df20)\n",
    "testdf19 = combine_team_games(model_df19)\n",
    "testdf18 = combine_team_games(model_df18)\n",
    "testdf17 = combine_team_games(model_df17)"
   ]
  },
  {
   "cell_type": "code",
   "execution_count": 138,
   "metadata": {},
   "outputs": [],
   "source": [
    "testall = testdf21.append(testdf20)\n",
    "testall = testall.append(testdf19)\n",
    "testall = testall.append(testdf18)\n",
    "testall = testall.append(testdf17)"
   ]
  },
  {
   "cell_type": "code",
   "execution_count": 139,
   "metadata": {},
   "outputs": [],
   "source": [
    "testdf2021.dropna(inplace=True) \n",
    "testall.dropna(inplace=True)"
   ]
  },
  {
   "cell_type": "code",
   "execution_count": 140,
   "metadata": {
    "scrolled": true
   },
   "outputs": [
    {
     "data": {
      "text/plain": [
       "['TEAM_ID_Home',\n",
       " 'TEAM_NAME_x_Home',\n",
       " 'GAME_ID',\n",
       " 'GAME_DATE',\n",
       " 'MATCHUP_Home',\n",
       " 'WL_Home',\n",
       " 'PTS_Home',\n",
       " 'PLUS_MINUS_Home',\n",
       " 'EFG_PCT_y_Home',\n",
       " 'FTA_RATE_Home',\n",
       " 'TM_TOV_PCT_y_Home',\n",
       " 'OREB_PCT_y_Home',\n",
       " 'OPP_EFG_PCT_Home',\n",
       " 'OPP_FTA_RATE_Home',\n",
       " 'OPP_TOV_PCT_Home',\n",
       " 'OPP_OREB_PCT_Home',\n",
       " 'PIE_Home',\n",
       " 'OFF_RATING_Home',\n",
       " 'DEF_RATING_Home',\n",
       " 'NET_RATING_Home',\n",
       " 'TS_PCT_Home',\n",
       " 'PACE_Home',\n",
       " 'AST_TOV_Home',\n",
       " 'PTS_ALLOWED_Home',\n",
       " 'PTS LAST 5_Home',\n",
       " 'PLUS_MINUS LAST 5_Home',\n",
       " 'EFG_PCT_y LAST 5_Home',\n",
       " 'FTA_RATE LAST 5_Home',\n",
       " 'TM_TOV_PCT_y LAST 5_Home',\n",
       " 'OREB_PCT_y LAST 5_Home',\n",
       " 'OPP_EFG_PCT LAST 5_Home',\n",
       " 'OPP_FTA_RATE LAST 5_Home',\n",
       " 'OPP_TOV_PCT LAST 5_Home',\n",
       " 'OPP_OREB_PCT LAST 5_Home',\n",
       " 'PIE LAST 5_Home',\n",
       " 'OFF_RATING LAST 5_Home',\n",
       " 'DEF_RATING LAST 5_Home',\n",
       " 'NET_RATING LAST 5_Home',\n",
       " 'TS_PCT LAST 5_Home',\n",
       " 'PACE LAST 5_Home',\n",
       " 'AST_TOV LAST 5_Home',\n",
       " 'PTS_ALLOWED LAST 5_Home',\n",
       " 'PTS LAST 10_Home',\n",
       " 'PLUS_MINUS LAST 10_Home',\n",
       " 'EFG_PCT_y LAST 10_Home',\n",
       " 'FTA_RATE LAST 10_Home',\n",
       " 'TM_TOV_PCT_y LAST 10_Home',\n",
       " 'OREB_PCT_y LAST 10_Home',\n",
       " 'OPP_EFG_PCT LAST 10_Home',\n",
       " 'OPP_FTA_RATE LAST 10_Home',\n",
       " 'OPP_TOV_PCT LAST 10_Home',\n",
       " 'OPP_OREB_PCT LAST 10_Home',\n",
       " 'PIE LAST 10_Home',\n",
       " 'OFF_RATING LAST 10_Home',\n",
       " 'DEF_RATING LAST 10_Home',\n",
       " 'NET_RATING LAST 10_Home',\n",
       " 'TS_PCT LAST 10_Home',\n",
       " 'PACE LAST 10_Home',\n",
       " 'AST_TOV LAST 10_Home',\n",
       " 'PTS_ALLOWED LAST 10_Home',\n",
       " 'HOME_TEAM_Home',\n",
       " 'PTS Season_Home',\n",
       " 'PLUS_MINUS Season_Home',\n",
       " 'EFG_PCT_y Season_Home',\n",
       " 'FTA_RATE Season_Home',\n",
       " 'TM_TOV_PCT_y Season_Home',\n",
       " 'OREB_PCT_y Season_Home',\n",
       " 'OPP_EFG_PCT Season_Home',\n",
       " 'OPP_FTA_RATE Season_Home',\n",
       " 'OPP_TOV_PCT Season_Home',\n",
       " 'OPP_OREB_PCT Season_Home',\n",
       " 'PIE Season_Home',\n",
       " 'OFF_RATING Season_Home',\n",
       " 'DEF_RATING Season_Home',\n",
       " 'NET_RATING Season_Home',\n",
       " 'TS_PCT Season_Home',\n",
       " 'PACE Season_Home',\n",
       " 'AST_TOV Season_Home',\n",
       " 'PTS_ALLOWED Season_Home',\n",
       " 'WIN_Home',\n",
       " 'LOSS_Home',\n",
       " 'WINS_SEASON_Home',\n",
       " 'LOSS_SEASON_Home',\n",
       " 'WIN_%_Home',\n",
       " 'previous_day_Home',\n",
       " 'back_to_back_Home',\n",
       " 'TEAM_ID_Away',\n",
       " 'TEAM_NAME_x_Away',\n",
       " 'MATCHUP_Away',\n",
       " 'WL_Away',\n",
       " 'PTS_Away',\n",
       " 'PLUS_MINUS_Away',\n",
       " 'EFG_PCT_y_Away',\n",
       " 'FTA_RATE_Away',\n",
       " 'TM_TOV_PCT_y_Away',\n",
       " 'OREB_PCT_y_Away',\n",
       " 'OPP_EFG_PCT_Away',\n",
       " 'OPP_FTA_RATE_Away',\n",
       " 'OPP_TOV_PCT_Away',\n",
       " 'OPP_OREB_PCT_Away',\n",
       " 'PIE_Away',\n",
       " 'OFF_RATING_Away',\n",
       " 'DEF_RATING_Away',\n",
       " 'NET_RATING_Away',\n",
       " 'TS_PCT_Away',\n",
       " 'PACE_Away',\n",
       " 'AST_TOV_Away',\n",
       " 'PTS_ALLOWED_Away',\n",
       " 'PTS LAST 5_Away',\n",
       " 'PLUS_MINUS LAST 5_Away',\n",
       " 'EFG_PCT_y LAST 5_Away',\n",
       " 'FTA_RATE LAST 5_Away',\n",
       " 'TM_TOV_PCT_y LAST 5_Away',\n",
       " 'OREB_PCT_y LAST 5_Away',\n",
       " 'OPP_EFG_PCT LAST 5_Away',\n",
       " 'OPP_FTA_RATE LAST 5_Away',\n",
       " 'OPP_TOV_PCT LAST 5_Away',\n",
       " 'OPP_OREB_PCT LAST 5_Away',\n",
       " 'PIE LAST 5_Away',\n",
       " 'OFF_RATING LAST 5_Away',\n",
       " 'DEF_RATING LAST 5_Away',\n",
       " 'NET_RATING LAST 5_Away',\n",
       " 'TS_PCT LAST 5_Away',\n",
       " 'PACE LAST 5_Away',\n",
       " 'AST_TOV LAST 5_Away',\n",
       " 'PTS_ALLOWED LAST 5_Away',\n",
       " 'PTS LAST 10_Away',\n",
       " 'PLUS_MINUS LAST 10_Away',\n",
       " 'EFG_PCT_y LAST 10_Away',\n",
       " 'FTA_RATE LAST 10_Away',\n",
       " 'TM_TOV_PCT_y LAST 10_Away',\n",
       " 'OREB_PCT_y LAST 10_Away',\n",
       " 'OPP_EFG_PCT LAST 10_Away',\n",
       " 'OPP_FTA_RATE LAST 10_Away',\n",
       " 'OPP_TOV_PCT LAST 10_Away',\n",
       " 'OPP_OREB_PCT LAST 10_Away',\n",
       " 'PIE LAST 10_Away',\n",
       " 'OFF_RATING LAST 10_Away',\n",
       " 'DEF_RATING LAST 10_Away',\n",
       " 'NET_RATING LAST 10_Away',\n",
       " 'TS_PCT LAST 10_Away',\n",
       " 'PACE LAST 10_Away',\n",
       " 'AST_TOV LAST 10_Away',\n",
       " 'PTS_ALLOWED LAST 10_Away',\n",
       " 'HOME_TEAM_Away',\n",
       " 'PTS Season_Away',\n",
       " 'PLUS_MINUS Season_Away',\n",
       " 'EFG_PCT_y Season_Away',\n",
       " 'FTA_RATE Season_Away',\n",
       " 'TM_TOV_PCT_y Season_Away',\n",
       " 'OREB_PCT_y Season_Away',\n",
       " 'OPP_EFG_PCT Season_Away',\n",
       " 'OPP_FTA_RATE Season_Away',\n",
       " 'OPP_TOV_PCT Season_Away',\n",
       " 'OPP_OREB_PCT Season_Away',\n",
       " 'PIE Season_Away',\n",
       " 'OFF_RATING Season_Away',\n",
       " 'DEF_RATING Season_Away',\n",
       " 'NET_RATING Season_Away',\n",
       " 'TS_PCT Season_Away',\n",
       " 'PACE Season_Away',\n",
       " 'AST_TOV Season_Away',\n",
       " 'PTS_ALLOWED Season_Away',\n",
       " 'WIN_Away',\n",
       " 'LOSS_Away',\n",
       " 'WINS_SEASON_Away',\n",
       " 'LOSS_SEASON_Away',\n",
       " 'WIN_%_Away',\n",
       " 'previous_day_Away',\n",
       " 'back_to_back_Away']"
      ]
     },
     "execution_count": 140,
     "metadata": {},
     "output_type": "execute_result"
    }
   ],
   "source": [
    "list(testdf21.columns)"
   ]
  },
  {
   "cell_type": "code",
   "execution_count": 90,
   "metadata": {},
   "outputs": [],
   "source": [
    "test_columns = ['PTS LAST 5_Home',\n",
    " 'PLUS_MINUS LAST 5_Home',\n",
    " 'EFG_PCT_y LAST 5_Home',\n",
    " 'FTA_RATE LAST 5_Home',\n",
    " 'TM_TOV_PCT_y LAST 5_Home',\n",
    " 'OREB_PCT_y LAST 5_Home',\n",
    " 'OPP_EFG_PCT LAST 5_Home',\n",
    " 'OPP_FTA_RATE LAST 5_Home',\n",
    " 'OPP_TOV_PCT LAST 5_Home',\n",
    " 'OPP_OREB_PCT LAST 5_Home',\n",
    " 'PIE LAST 5_Home',\n",
    " 'OFF_RATING LAST 5_Home',\n",
    " 'DEF_RATING LAST 5_Home',\n",
    " 'NET_RATING LAST 5_Home',\n",
    " 'TS_PCT LAST 5_Home',\n",
    " 'PACE LAST 5_Home',\n",
    " 'AST_TOV LAST 5_Home',\n",
    " 'PTS_ALLOWED LAST 5_Home',\n",
    " 'PTS LAST 10_Home',\n",
    " 'PLUS_MINUS LAST 10_Home',\n",
    " 'EFG_PCT_y LAST 10_Home',\n",
    " 'FTA_RATE LAST 10_Home',\n",
    " 'TM_TOV_PCT_y LAST 10_Home',\n",
    " 'OREB_PCT_y LAST 10_Home',\n",
    " 'OPP_EFG_PCT LAST 10_Home',\n",
    " 'OPP_FTA_RATE LAST 10_Home',\n",
    " 'OPP_TOV_PCT LAST 10_Home',\n",
    " 'OPP_OREB_PCT LAST 10_Home',\n",
    " 'PIE LAST 10_Home',\n",
    " 'OFF_RATING LAST 10_Home',\n",
    " 'DEF_RATING LAST 10_Home',\n",
    " 'NET_RATING LAST 10_Home',\n",
    " 'TS_PCT LAST 10_Home',\n",
    " 'PACE LAST 10_Home',\n",
    " 'AST_TOV LAST 10_Home',\n",
    " 'PTS_ALLOWED LAST 10_Home',\n",
    " 'HOME_TEAM_Home',\n",
    " 'PTS Season_Home',\n",
    " 'PLUS_MINUS Season_Home',\n",
    " 'EFG_PCT_y Season_Home',\n",
    " 'FTA_RATE Season_Home',\n",
    " 'TM_TOV_PCT_y Season_Home',\n",
    " 'OREB_PCT_y Season_Home',\n",
    " 'OPP_EFG_PCT Season_Home',\n",
    " 'OPP_FTA_RATE Season_Home',\n",
    " 'OPP_TOV_PCT Season_Home',\n",
    " 'OPP_OREB_PCT Season_Home',\n",
    " 'PIE Season_Home',\n",
    " 'OFF_RATING Season_Home',\n",
    " 'DEF_RATING Season_Home',\n",
    " 'NET_RATING Season_Home',\n",
    " 'TS_PCT Season_Home',\n",
    " 'PACE Season_Home',\n",
    " 'AST_TOV Season_Home',\n",
    " 'PTS_ALLOWED Season_Home',\n",
    " 'WIN_%_Home',\n",
    " 'back_to_back_Home',               \n",
    "  'PTS LAST 5_Away',\n",
    " 'PLUS_MINUS LAST 5_Away',\n",
    " 'EFG_PCT_y LAST 5_Away',\n",
    " 'FTA_RATE LAST 5_Away',\n",
    " 'TM_TOV_PCT_y LAST 5_Away',\n",
    " 'OREB_PCT_y LAST 5_Away',\n",
    " 'OPP_EFG_PCT LAST 5_Away',\n",
    " 'OPP_FTA_RATE LAST 5_Away',\n",
    " 'OPP_TOV_PCT LAST 5_Away',\n",
    " 'OPP_OREB_PCT LAST 5_Away',\n",
    " 'PIE LAST 5_Away',\n",
    " 'OFF_RATING LAST 5_Away',\n",
    " 'DEF_RATING LAST 5_Away',\n",
    " 'NET_RATING LAST 5_Away',\n",
    " 'TS_PCT LAST 5_Away',\n",
    " 'PACE LAST 5_Away',\n",
    " 'AST_TOV LAST 5_Away',\n",
    " 'PTS_ALLOWED LAST 5_Away',\n",
    " 'PTS LAST 10_Away',\n",
    " 'PLUS_MINUS LAST 10_Away',\n",
    " 'EFG_PCT_y LAST 10_Away',\n",
    " 'FTA_RATE LAST 10_Away',\n",
    " 'TM_TOV_PCT_y LAST 10_Away',\n",
    " 'OREB_PCT_y LAST 10_Away',\n",
    " 'OPP_EFG_PCT LAST 10_Away',\n",
    " 'OPP_FTA_RATE LAST 10_Away',\n",
    " 'OPP_TOV_PCT LAST 10_Away',\n",
    " 'OPP_OREB_PCT LAST 10_Away',\n",
    " 'PIE LAST 10_Away',\n",
    " 'OFF_RATING LAST 10_Away',\n",
    " 'DEF_RATING LAST 10_Away',\n",
    " 'NET_RATING LAST 10_Away',\n",
    " 'TS_PCT LAST 10_Away',\n",
    " 'PACE LAST 10_Away',\n",
    " 'AST_TOV LAST 10_Away',\n",
    " 'PTS_ALLOWED LAST 10_Away',\n",
    " 'HOME_TEAM_Away',\n",
    " 'PTS Season_Away',\n",
    " 'PLUS_MINUS Season_Away',\n",
    " 'EFG_PCT_y Season_Away',\n",
    " 'FTA_RATE Season_Away',\n",
    " 'TM_TOV_PCT_y Season_Away',\n",
    " 'OREB_PCT_y Season_Away',\n",
    " 'OPP_EFG_PCT Season_Away',\n",
    " 'OPP_FTA_RATE Season_Away',\n",
    " 'OPP_TOV_PCT Season_Away',\n",
    " 'OPP_OREB_PCT Season_Away',\n",
    " 'PIE Season_Away',\n",
    " 'OFF_RATING Season_Away',\n",
    " 'DEF_RATING Season_Away',\n",
    " 'NET_RATING Season_Away',\n",
    " 'TS_PCT Season_Away',\n",
    " 'PACE Season_Away',\n",
    " 'AST_TOV Season_Away',\n",
    " 'PTS_ALLOWED Season_Away',\n",
    "  'WIN_%_Away',\n",
    "  'back_to_back_Away']"
   ]
  },
  {
   "cell_type": "code",
   "execution_count": 141,
   "metadata": {},
   "outputs": [],
   "source": [
    "less_columns = ['PTS LAST 10_Home',\n",
    " 'PLUS_MINUS LAST 10_Home',\n",
    " 'EFG_PCT_y LAST 10_Home',\n",
    " 'FTA_RATE LAST 10_Home',\n",
    " 'TM_TOV_PCT_y LAST 10_Home',\n",
    " 'OREB_PCT_y LAST 10_Home',\n",
    " 'OPP_EFG_PCT LAST 10_Home',\n",
    " 'OPP_FTA_RATE LAST 10_Home',\n",
    " 'OPP_TOV_PCT LAST 10_Home',\n",
    " 'OPP_OREB_PCT LAST 10_Home',\n",
    " 'PIE LAST 10_Home',\n",
    " 'OFF_RATING LAST 10_Home',\n",
    " 'DEF_RATING LAST 10_Home',\n",
    " 'NET_RATING LAST 10_Home',\n",
    " 'TS_PCT LAST 10_Home',\n",
    " 'PACE LAST 10_Home',\n",
    " 'AST_TOV LAST 10_Home',\n",
    " 'PTS_ALLOWED LAST 10_Home',\n",
    " 'HOME_TEAM_Home',\n",
    " 'WIN_%_Home',\n",
    " 'back_to_back_Home',\n",
    "'WIN_%_Away',\n",
    "'back_to_back_Away',\n",
    " 'PTS LAST 10_Away',\n",
    " 'PLUS_MINUS LAST 10_Away',\n",
    " 'EFG_PCT_y LAST 10_Away',\n",
    " 'FTA_RATE LAST 10_Away',\n",
    " 'TM_TOV_PCT_y LAST 10_Away',\n",
    " 'OREB_PCT_y LAST 10_Away',\n",
    " 'OPP_EFG_PCT LAST 10_Away',\n",
    " 'OPP_FTA_RATE LAST 10_Away',\n",
    " 'OPP_TOV_PCT LAST 10_Away',\n",
    " 'OPP_OREB_PCT LAST 10_Away',\n",
    " 'PIE LAST 10_Away',\n",
    " 'OFF_RATING LAST 10_Away',\n",
    " 'DEF_RATING LAST 10_Away',\n",
    " 'NET_RATING LAST 10_Away',\n",
    " 'TS_PCT LAST 10_Away',\n",
    " 'PACE LAST 10_Away',\n",
    " 'AST_TOV LAST 10_Away',\n",
    " 'PTS_ALLOWED LAST 10_Away',\n",
    " 'HOME_TEAM_Away']"
   ]
  },
  {
   "cell_type": "code",
   "execution_count": 142,
   "metadata": {},
   "outputs": [],
   "source": [
    "from sklearn.ensemble import RandomForestClassifier\n",
    "from sklearn.model_selection import train_test_split\n",
    "from sklearn.linear_model import LogisticRegression\n",
    "from sklearn.preprocessing import StandardScaler"
   ]
  },
  {
   "cell_type": "code",
   "execution_count": 143,
   "metadata": {},
   "outputs": [],
   "source": [
    "from sklearn.metrics import accuracy_score, plot_confusion_matrix"
   ]
  },
  {
   "cell_type": "code",
   "execution_count": 147,
   "metadata": {},
   "outputs": [
    {
     "data": {
      "text/plain": [
       "21.0"
      ]
     },
     "execution_count": 147,
     "metadata": {},
     "output_type": "execute_result"
    }
   ],
   "source": [
    "len(less_columns) / 2"
   ]
  },
  {
   "cell_type": "code",
   "execution_count": 149,
   "metadata": {},
   "outputs": [],
   "source": [
    "ss = StandardScaler()"
   ]
  },
  {
   "cell_type": "code",
   "execution_count": 148,
   "metadata": {},
   "outputs": [],
   "source": [
    "X = testall[less_columns]\n",
    "y = testall['WIN_Home']"
   ]
  },
  {
   "cell_type": "code",
   "execution_count": 150,
   "metadata": {},
   "outputs": [],
   "source": [
    "X_sc = ss.fit_transform(X)"
   ]
  },
  {
   "cell_type": "code",
   "execution_count": 99,
   "metadata": {},
   "outputs": [],
   "source": [
    "X_train, X_test, y_train, y_test = train_test_split(X, y, random_state=42)"
   ]
  },
  {
   "cell_type": "code",
   "execution_count": 100,
   "metadata": {},
   "outputs": [],
   "source": [
    "X_train_scaled = ss.fit_transform(X_train)\n",
    "X_test_scaled = ss.transform(X_test)"
   ]
  },
  {
   "cell_type": "code",
   "execution_count": 104,
   "metadata": {},
   "outputs": [],
   "source": [
    "rand=RandomForestClassifier(random_state=42)\n",
    "rand.fit(X_train, y_train)\n",
    "y_pred_r = rand.predict(X_test)"
   ]
  },
  {
   "cell_type": "code",
   "execution_count": 101,
   "metadata": {},
   "outputs": [],
   "source": [
    "lr = LogisticRegression(max_iter = 100000,random_state=42)\n",
    "lr.fit(X_train_scaled, y_train)\n",
    "y_pred = lr.predict(X_test_scaled)"
   ]
  },
  {
   "cell_type": "code",
   "execution_count": 102,
   "metadata": {},
   "outputs": [
    {
     "data": {
      "text/plain": [
       "0.6326207442596992"
      ]
     },
     "execution_count": 102,
     "metadata": {},
     "output_type": "execute_result"
    }
   ],
   "source": [
    "accuracy_score(y_test, y_pred)"
   ]
  },
  {
   "cell_type": "code",
   "execution_count": 103,
   "metadata": {},
   "outputs": [
    {
     "data": {
      "image/png": "[encoded data removed]",
      "text/plain": [
       "<Figure size 432x288 with 2 Axes>"
      ]
     },
     "metadata": {
      "needs_background": "light"
     },
     "output_type": "display_data"
    }
   ],
   "source": [
    "plot_confusion_matrix(lr, X_test_scaled, y_test, display_labels=['Loss', 'Win']);"
   ]
  },
  {
   "cell_type": "code",
   "execution_count": 105,
   "metadata": {},
   "outputs": [
    {
     "data": {
      "text/plain": [
       "0.6254948535233571"
      ]
     },
     "execution_count": 105,
     "metadata": {},
     "output_type": "execute_result"
    }
   ],
   "source": [
    "accuracy_score(y_test, y_pred_r)"
   ]
  },
  {
   "cell_type": "code",
   "execution_count": 79,
   "metadata": {},
   "outputs": [
    {
     "data": {
      "text/plain": [
       "<sklearn.metrics._plot.confusion_matrix.ConfusionMatrixDisplay at 0x7fe017f6b190>"
      ]
     },
     "execution_count": 79,
     "metadata": {},
     "output_type": "execute_result"
    },
    {
     "data": {
      "image/png": "[encoded data removed]",
      "text/plain": [
       "<Figure size 432x288 with 2 Axes>"
      ]
     },
     "metadata": {
      "needs_background": "light"
     },
     "output_type": "display_data"
    }
   ],
   "source": [
    "plot_confusion_matrix(rand, X_test, y_test)"
   ]
  },
  {
   "cell_type": "code",
   "execution_count": 152,
   "metadata": {},
   "outputs": [
    {
     "data": {
      "text/plain": [
       "DecisionTreeClassifier()"
      ]
     },
     "execution_count": 152,
     "metadata": {},
     "output_type": "execute_result"
    }
   ],
   "source": [
    "from sklearn.tree import DecisionTreeClassifier\n",
    "\n",
    "dt = DecisionTreeClassifier()\n",
    "\n",
    "dt.fit(X, y)"
   ]
  },
  {
   "cell_type": "code",
   "execution_count": 153,
   "metadata": {},
   "outputs": [
    {
     "data": {
      "text/plain": [
       "array([0.54896142, 0.53564356, 0.56633663, 0.54059406, 0.52574257])"
      ]
     },
     "execution_count": 153,
     "metadata": {},
     "output_type": "execute_result"
    }
   ],
   "source": [
    "from sklearn.model_selection import cross_val_score\n",
    "cross_val_score(dt, X, y)"
   ]
  },
  {
   "cell_type": "code",
   "execution_count": 127,
   "metadata": {},
   "outputs": [
    {
     "data": {
      "text/plain": [
       "0.630962579937519"
      ]
     },
     "execution_count": 127,
     "metadata": {},
     "output_type": "execute_result"
    }
   ],
   "source": [
    "np.mean(cross_val_score(rand, X, y))"
   ]
  },
  {
   "cell_type": "code",
   "execution_count": 121,
   "metadata": {},
   "outputs": [],
   "source": [
    "from sklearn.svm import SVC"
   ]
  },
  {
   "cell_type": "code",
   "execution_count": 154,
   "metadata": {},
   "outputs": [
    {
     "data": {
      "text/plain": [
       "SVC()"
      ]
     },
     "execution_count": 154,
     "metadata": {},
     "output_type": "execute_result"
    }
   ],
   "source": [
    "svc = SVC()\n",
    "svc.fit(X, y)"
   ]
  },
  {
   "cell_type": "code",
   "execution_count": 156,
   "metadata": {},
   "outputs": [
    {
     "data": {
      "text/plain": [
       "0.6319560086572455"
      ]
     },
     "execution_count": 156,
     "metadata": {},
     "output_type": "execute_result"
    }
   ],
   "source": [
    "np.mean(cross_val_score(svc, X, y))"
   ]
  },
  {
   "cell_type": "code",
   "execution_count": 132,
   "metadata": {},
   "outputs": [
    {
     "data": {
      "text/plain": [
       "<sklearn.metrics._plot.confusion_matrix.ConfusionMatrixDisplay at 0x7fe017febb50>"
      ]
     },
     "execution_count": 132,
     "metadata": {},
     "output_type": "execute_result"
    },
    {
     "data": {
      "image/png": "[encoded data removed]",
      "text/plain": [
       "<Figure size 432x288 with 2 Axes>"
      ]
     },
     "metadata": {
      "needs_background": "light"
     },
     "output_type": "display_data"
    }
   ],
   "source": [
    "plot_confusion_matrix(svc, X_test, y_test)"
   ]
  },
  {
   "cell_type": "code",
   "execution_count": null,
   "metadata": {},
   "outputs": [],
   "source": []
  }
 ],
 "metadata": {
  "kernelspec": {
   "display_name": "Python (learn-env)",
   "language": "python",
   "name": "learn-env"
  },
  "language_info": {
   "codemirror_mode": {
    "name": "ipython",
    "version": 3
   },
   "file_extension": ".py",
   "mimetype": "text/x-python",
   "name": "python",
   "nbconvert_exporter": "python",
   "pygments_lexer": "ipython3",
   "version": "3.8.5"
  }
 },
 "nbformat": 4,
 "nbformat_minor": 4
}

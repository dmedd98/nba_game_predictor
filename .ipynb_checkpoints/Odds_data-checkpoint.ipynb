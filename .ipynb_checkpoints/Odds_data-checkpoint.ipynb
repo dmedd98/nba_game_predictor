{
 "cells": [
  {
   "cell_type": "code",
   "execution_count": 1,
   "metadata": {},
   "outputs": [],
   "source": [
    "import pandas as pd\n",
    "import pickle\n"
   ]
  },
  {
   "cell_type": "code",
   "execution_count": 2,
   "metadata": {},
   "outputs": [],
   "source": [
    "with open('data/pickles/model_df21.p', 'rb') as readfile: \n",
    "    model_df21 = pickle.load(readfile)\n",
    "    \n",
    "with open('data/pickles/model_df20.p', 'rb') as readfile: \n",
    "    model_df20 = pickle.load(readfile)\n",
    "    \n",
    "with open('data/pickles/model_df19.p', 'rb') as readfile: \n",
    "    model_df19 = pickle.load(readfile)\n",
    "    \n",
    "with open('data/pickles/model_df18.p', 'rb') as readfile: \n",
    "    model_df18 = pickle.load(readfile)\n",
    "    \n",
    "with open('data/pickles/model_df17.p', 'rb') as readfile: \n",
    "    model_df17 = pickle.load(readfile)"
   ]
  },
  {
   "cell_type": "code",
   "execution_count": 5,
   "metadata": {},
   "outputs": [],
   "source": [
    "odds21 = pd.read_excel('Odds-Data-Clean/2020-21.xlsx')"
   ]
  },
  {
   "cell_type": "code",
   "execution_count": 11,
   "metadata": {},
   "outputs": [],
   "source": [
    "odds20 = pd.read_excel('Odds-Data-Clean/2019-20.xlsx')\n",
    "odds19 = pd.read_excel('Odds-Data-Clean/2018-19.xlsx')\n",
    "odds18 = pd.read_excel('Odds-Data-Clean/2017-18.xlsx')\n",
    "odds17 = pd.read_excel('Odds-Data-Clean/2016-17.xlsx')\n"
   ]
  },
  {
   "cell_type": "code",
   "execution_count": null,
   "metadata": {},
   "outputs": [],
   "source": []
  }
 ],
 "metadata": {
  "kernelspec": {
   "display_name": "Python (learn-env)",
   "language": "python",
   "name": "learn-env"
  },
  "language_info": {
   "codemirror_mode": {
    "name": "ipython",
    "version": 3
   },
   "file_extension": ".py",
   "mimetype": "text/x-python",
   "name": "python",
   "nbconvert_exporter": "python",
   "pygments_lexer": "ipython3",
   "version": "3.8.5"
  }
 },
 "nbformat": 4,
 "nbformat_minor": 4
}

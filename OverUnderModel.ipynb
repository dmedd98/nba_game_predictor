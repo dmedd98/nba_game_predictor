{
 "cells": [
  {
   "cell_type": "code",
   "execution_count": 4,
   "metadata": {},
   "outputs": [],
   "source": [
    "import pickle\n",
    "import pandas as pd"
   ]
  },
  {
   "cell_type": "code",
   "execution_count": 5,
   "metadata": {},
   "outputs": [],
   "source": [
    "with open('data/pickles/testdf21.p', 'rb') as readfile: \n",
    "    testdf21 = pickle.load(readfile)\n",
    "    \n",
    "with open('data/pickles/testdf20.p', 'rb') as readfile: \n",
    "    testdf20 = pickle.load(readfile)\n",
    "    \n",
    "with open('data/pickles/testdf19.p', 'rb') as readfile: \n",
    "    testdf19 = pickle.load(readfile)\n",
    "    \n",
    "with open('data/pickles/testdf18.p', 'rb') as readfile: \n",
    "    testdf18 = pickle.load(readfile)\n",
    "    \n",
    "with open('data/pickles/testdf17.p', 'rb') as readfile: \n",
    "    testdf17 = pickle.load(readfile)"
   ]
  },
  {
   "cell_type": "code",
   "execution_count": 6,
   "metadata": {},
   "outputs": [],
   "source": [
    "testdf21.dropna(inplace=True)"
   ]
  },
  {
   "cell_type": "code",
   "execution_count": 75,
   "metadata": {},
   "outputs": [],
   "source": [
    "testdf21['O/U'] = testdf21['Over/Under Result'].map({'Over' : 1, 'Under': -1, 'Push': 0})"
   ]
  },
  {
   "cell_type": "code",
   "execution_count": 8,
   "metadata": {
    "scrolled": true
   },
   "outputs": [
    {
     "data": {
      "text/plain": [
       "['TEAM_ID_Home',\n",
       " 'Team_Home',\n",
       " 'GAME_ID',\n",
       " 'GAME_DATE',\n",
       " 'MATCHUP_Home',\n",
       " 'Over/Under',\n",
       " 'Spread_Home',\n",
       " 'ML_Home',\n",
       " 'WL_Home',\n",
       " 'Spread_Result_Home',\n",
       " 'PTS_Home',\n",
       " 'PLUS_MINUS_Home',\n",
       " 'WIN_Home',\n",
       " 'LOSS_Home',\n",
       " 'WINS_SEASON_Home',\n",
       " 'LOSS_SEASON_Home',\n",
       " 'WIN_%_Home',\n",
       " 'previous_day_Home',\n",
       " 'back_to_back_Home',\n",
       " 'FG_PCT_Home',\n",
       " 'FG3_PCT_Home',\n",
       " 'FT_PCT_Home',\n",
       " 'EFG_PCT_y_Home',\n",
       " 'FTA_RATE_Home',\n",
       " 'TM_TOV_PCT_y_Home',\n",
       " 'OREB_PCT_y_Home',\n",
       " 'OPP_EFG_PCT_Home',\n",
       " 'OPP_FTA_RATE_Home',\n",
       " 'OPP_TOV_PCT_Home',\n",
       " 'OPP_OREB_PCT_Home',\n",
       " 'PIE_Home',\n",
       " 'OFF_RATING_Home',\n",
       " 'DEF_RATING_Home',\n",
       " 'NET_RATING_Home',\n",
       " 'TS_PCT_Home',\n",
       " 'PACE_Home',\n",
       " 'AST_TOV_Home',\n",
       " 'HOME_TEAM_Home',\n",
       " 'PTS_ALLOWED_Home',\n",
       " 'PTS LAST 5_Home',\n",
       " 'PLUS_MINUS LAST 5_Home',\n",
       " 'FG_PCT LAST 5_Home',\n",
       " 'FG3_PCT LAST 5_Home',\n",
       " 'FT_PCT LAST 5_Home',\n",
       " 'EFG_PCT_y LAST 5_Home',\n",
       " 'FTA_RATE LAST 5_Home',\n",
       " 'TM_TOV_PCT_y LAST 5_Home',\n",
       " 'OREB_PCT_y LAST 5_Home',\n",
       " 'OPP_EFG_PCT LAST 5_Home',\n",
       " 'OPP_FTA_RATE LAST 5_Home',\n",
       " 'OPP_TOV_PCT LAST 5_Home',\n",
       " 'OPP_OREB_PCT LAST 5_Home',\n",
       " 'PIE LAST 5_Home',\n",
       " 'OFF_RATING LAST 5_Home',\n",
       " 'DEF_RATING LAST 5_Home',\n",
       " 'NET_RATING LAST 5_Home',\n",
       " 'TS_PCT LAST 5_Home',\n",
       " 'PACE LAST 5_Home',\n",
       " 'AST_TOV LAST 5_Home',\n",
       " 'PTS_ALLOWED LAST 5_Home',\n",
       " 'PTS LAST 10_Home',\n",
       " 'PLUS_MINUS LAST 10_Home',\n",
       " 'FG_PCT LAST 10_Home',\n",
       " 'FG3_PCT LAST 10_Home',\n",
       " 'FT_PCT LAST 10_Home',\n",
       " 'EFG_PCT_y LAST 10_Home',\n",
       " 'FTA_RATE LAST 10_Home',\n",
       " 'TM_TOV_PCT_y LAST 10_Home',\n",
       " 'OREB_PCT_y LAST 10_Home',\n",
       " 'OPP_EFG_PCT LAST 10_Home',\n",
       " 'OPP_FTA_RATE LAST 10_Home',\n",
       " 'OPP_TOV_PCT LAST 10_Home',\n",
       " 'OPP_OREB_PCT LAST 10_Home',\n",
       " 'PIE LAST 10_Home',\n",
       " 'OFF_RATING LAST 10_Home',\n",
       " 'DEF_RATING LAST 10_Home',\n",
       " 'NET_RATING LAST 10_Home',\n",
       " 'TS_PCT LAST 10_Home',\n",
       " 'PACE LAST 10_Home',\n",
       " 'AST_TOV LAST 10_Home',\n",
       " 'PTS_ALLOWED LAST 10_Home',\n",
       " 'PTS Season_Home',\n",
       " 'PLUS_MINUS Season_Home',\n",
       " 'FG_PCT Season_Home',\n",
       " 'FG3_PCT Season_Home',\n",
       " 'FT_PCT Season_Home',\n",
       " 'EFG_PCT_y Season_Home',\n",
       " 'FTA_RATE Season_Home',\n",
       " 'TM_TOV_PCT_y Season_Home',\n",
       " 'OREB_PCT_y Season_Home',\n",
       " 'OPP_EFG_PCT Season_Home',\n",
       " 'OPP_FTA_RATE Season_Home',\n",
       " 'OPP_TOV_PCT Season_Home',\n",
       " 'OPP_OREB_PCT Season_Home',\n",
       " 'PIE Season_Home',\n",
       " 'OFF_RATING Season_Home',\n",
       " 'DEF_RATING Season_Home',\n",
       " 'NET_RATING Season_Home',\n",
       " 'TS_PCT Season_Home',\n",
       " 'PACE Season_Home',\n",
       " 'AST_TOV Season_Home',\n",
       " 'PTS_ALLOWED Season_Home',\n",
       " 'PTS Home_Home',\n",
       " 'PLUS_MINUS Home_Home',\n",
       " 'FG_PCT Home_Home',\n",
       " 'FG3_PCT Home_Home',\n",
       " 'FT_PCT Home_Home',\n",
       " 'EFG_PCT_y Home_Home',\n",
       " 'FTA_RATE Home_Home',\n",
       " 'TM_TOV_PCT_y Home_Home',\n",
       " 'OREB_PCT_y Home_Home',\n",
       " 'OPP_EFG_PCT Home_Home',\n",
       " 'OPP_FTA_RATE Home_Home',\n",
       " 'OPP_TOV_PCT Home_Home',\n",
       " 'OPP_OREB_PCT Home_Home',\n",
       " 'PIE Home_Home',\n",
       " 'OFF_RATING Home_Home',\n",
       " 'DEF_RATING Home_Home',\n",
       " 'NET_RATING Home_Home',\n",
       " 'TS_PCT Home_Home',\n",
       " 'PACE Home_Home',\n",
       " 'AST_TOV Home_Home',\n",
       " 'PTS_ALLOWED Home_Home',\n",
       " 'TEAM_ID_Away',\n",
       " 'Team_Away',\n",
       " 'MATCHUP_Away',\n",
       " 'Over/Under_Away',\n",
       " 'Spread_Away',\n",
       " 'ML_Away',\n",
       " 'WL_Away',\n",
       " 'Spread_Result_Away',\n",
       " 'PTS_Away',\n",
       " 'PLUS_MINUS_Away',\n",
       " 'WIN_Away',\n",
       " 'LOSS_Away',\n",
       " 'WINS_SEASON_Away',\n",
       " 'LOSS_SEASON_Away',\n",
       " 'WIN_%_Away',\n",
       " 'previous_day_Away',\n",
       " 'back_to_back_Away',\n",
       " 'FG_PCT_Away',\n",
       " 'FG3_PCT_Away',\n",
       " 'FT_PCT_Away',\n",
       " 'EFG_PCT_y_Away',\n",
       " 'FTA_RATE_Away',\n",
       " 'TM_TOV_PCT_y_Away',\n",
       " 'OREB_PCT_y_Away',\n",
       " 'OPP_EFG_PCT_Away',\n",
       " 'OPP_FTA_RATE_Away',\n",
       " 'OPP_TOV_PCT_Away',\n",
       " 'OPP_OREB_PCT_Away',\n",
       " 'PIE_Away',\n",
       " 'OFF_RATING_Away',\n",
       " 'DEF_RATING_Away',\n",
       " 'NET_RATING_Away',\n",
       " 'TS_PCT_Away',\n",
       " 'PACE_Away',\n",
       " 'AST_TOV_Away',\n",
       " 'HOME_TEAM_Away',\n",
       " 'PTS_ALLOWED_Away',\n",
       " 'PTS LAST 5_Away',\n",
       " 'PLUS_MINUS LAST 5_Away',\n",
       " 'FG_PCT LAST 5_Away',\n",
       " 'FG3_PCT LAST 5_Away',\n",
       " 'FT_PCT LAST 5_Away',\n",
       " 'EFG_PCT_y LAST 5_Away',\n",
       " 'FTA_RATE LAST 5_Away',\n",
       " 'TM_TOV_PCT_y LAST 5_Away',\n",
       " 'OREB_PCT_y LAST 5_Away',\n",
       " 'OPP_EFG_PCT LAST 5_Away',\n",
       " 'OPP_FTA_RATE LAST 5_Away',\n",
       " 'OPP_TOV_PCT LAST 5_Away',\n",
       " 'OPP_OREB_PCT LAST 5_Away',\n",
       " 'PIE LAST 5_Away',\n",
       " 'OFF_RATING LAST 5_Away',\n",
       " 'DEF_RATING LAST 5_Away',\n",
       " 'NET_RATING LAST 5_Away',\n",
       " 'TS_PCT LAST 5_Away',\n",
       " 'PACE LAST 5_Away',\n",
       " 'AST_TOV LAST 5_Away',\n",
       " 'PTS_ALLOWED LAST 5_Away',\n",
       " 'PTS LAST 10_Away',\n",
       " 'PLUS_MINUS LAST 10_Away',\n",
       " 'FG_PCT LAST 10_Away',\n",
       " 'FG3_PCT LAST 10_Away',\n",
       " 'FT_PCT LAST 10_Away',\n",
       " 'EFG_PCT_y LAST 10_Away',\n",
       " 'FTA_RATE LAST 10_Away',\n",
       " 'TM_TOV_PCT_y LAST 10_Away',\n",
       " 'OREB_PCT_y LAST 10_Away',\n",
       " 'OPP_EFG_PCT LAST 10_Away',\n",
       " 'OPP_FTA_RATE LAST 10_Away',\n",
       " 'OPP_TOV_PCT LAST 10_Away',\n",
       " 'OPP_OREB_PCT LAST 10_Away',\n",
       " 'PIE LAST 10_Away',\n",
       " 'OFF_RATING LAST 10_Away',\n",
       " 'DEF_RATING LAST 10_Away',\n",
       " 'NET_RATING LAST 10_Away',\n",
       " 'TS_PCT LAST 10_Away',\n",
       " 'PACE LAST 10_Away',\n",
       " 'AST_TOV LAST 10_Away',\n",
       " 'PTS_ALLOWED LAST 10_Away',\n",
       " 'PTS Season_Away',\n",
       " 'PLUS_MINUS Season_Away',\n",
       " 'FG_PCT Season_Away',\n",
       " 'FG3_PCT Season_Away',\n",
       " 'FT_PCT Season_Away',\n",
       " 'EFG_PCT_y Season_Away',\n",
       " 'FTA_RATE Season_Away',\n",
       " 'TM_TOV_PCT_y Season_Away',\n",
       " 'OREB_PCT_y Season_Away',\n",
       " 'OPP_EFG_PCT Season_Away',\n",
       " 'OPP_FTA_RATE Season_Away',\n",
       " 'OPP_TOV_PCT Season_Away',\n",
       " 'OPP_OREB_PCT Season_Away',\n",
       " 'PIE Season_Away',\n",
       " 'OFF_RATING Season_Away',\n",
       " 'DEF_RATING Season_Away',\n",
       " 'NET_RATING Season_Away',\n",
       " 'TS_PCT Season_Away',\n",
       " 'PACE Season_Away',\n",
       " 'AST_TOV Season_Away',\n",
       " 'PTS_ALLOWED Season_Away',\n",
       " 'PTS Away_Away',\n",
       " 'PLUS_MINUS Away_Away',\n",
       " 'FG_PCT Away_Away',\n",
       " 'FG3_PCT Away_Away',\n",
       " 'FT_PCT Away_Away',\n",
       " 'EFG_PCT_y Away_Away',\n",
       " 'FTA_RATE Away_Away',\n",
       " 'TM_TOV_PCT_y Away_Away',\n",
       " 'OREB_PCT_y Away_Away',\n",
       " 'OPP_EFG_PCT Away_Away',\n",
       " 'OPP_FTA_RATE Away_Away',\n",
       " 'OPP_TOV_PCT Away_Away',\n",
       " 'OPP_OREB_PCT Away_Away',\n",
       " 'PIE Away_Away',\n",
       " 'OFF_RATING Away_Away',\n",
       " 'DEF_RATING Away_Away',\n",
       " 'NET_RATING Away_Away',\n",
       " 'TS_PCT Away_Away',\n",
       " 'PACE Away_Away',\n",
       " 'AST_TOV Away_Away',\n",
       " 'PTS_ALLOWED Away_Away',\n",
       " 'TOTAL_PTS',\n",
       " 'Over/Under Result']"
      ]
     },
     "execution_count": 8,
     "metadata": {},
     "output_type": "execute_result"
    }
   ],
   "source": [
    "list(testdf21.columns)"
   ]
  },
  {
   "cell_type": "code",
   "execution_count": 37,
   "metadata": {},
   "outputs": [],
   "source": [
    "ou_columns = ['Over/Under', 'PTS LAST 10_Home', 'EFG_PCT_y LAST 10_Home',\n",
    " 'FTA_RATE LAST 10_Home',\n",
    " 'TM_TOV_PCT_y LAST 10_Home',\n",
    " 'OREB_PCT_y LAST 10_Home',\n",
    " 'OPP_EFG_PCT LAST 10_Home',\n",
    " 'OPP_FTA_RATE LAST 10_Home',\n",
    " 'OPP_TOV_PCT LAST 10_Home',\n",
    " 'OPP_OREB_PCT LAST 10_Home',\n",
    "  'PACE LAST 10_Home',\n",
    "   'PACE Home_Home',\n",
    "'OFF_RATING Season_Home',\n",
    "'PTS Season_Home',\n",
    "    'back_to_back_Home',\n",
    "'PTS_ALLOWED LAST 10_Home',\n",
    "'PTS_ALLOWED Home_Home',\n",
    "    'PTS LAST 10_Away',\n",
    "   'EFG_PCT_y LAST 10_Away',\n",
    " 'FTA_RATE LAST 10_Away',\n",
    " 'TM_TOV_PCT_y LAST 10_Away',\n",
    " 'OREB_PCT_y LAST 10_Away',\n",
    " 'OPP_EFG_PCT LAST 10_Away',\n",
    " 'OPP_FTA_RATE LAST 10_Away',\n",
    " 'OPP_TOV_PCT LAST 10_Away',\n",
    " 'OPP_OREB_PCT LAST 10_Away',\n",
    "   'PACE LAST 10_Away',\n",
    "    'OFF_RATING Season_Away',\n",
    "    'PTS Season_Away',\n",
    "    'PACE Away_Away',\n",
    "   'back_to_back_Away',\n",
    "'PTS_ALLOWED Away_Away',\n",
    "'PTS_ALLOWED LAST 10_Away']"
   ]
  },
  {
   "cell_type": "code",
   "execution_count": 38,
   "metadata": {},
   "outputs": [],
   "source": [
    "X = testdf21[ou_columns]\n",
    "y = testdf21.TOTAL_PTS"
   ]
  },
  {
   "cell_type": "code",
   "execution_count": 76,
   "metadata": {},
   "outputs": [],
   "source": [
    "X = testdf21[ou_columns]\n",
    "y = testdf21['O/U']"
   ]
  },
  {
   "cell_type": "code",
   "execution_count": 89,
   "metadata": {},
   "outputs": [],
   "source": [
    "from sklearn.model_selection import train_test_split\n",
    "from sklearn.ensemble import RandomForestRegressor, RandomForestClassifier\n",
    "from sklearn.linear_model import LogisticRegression\n",
    "from sklearn.metrics import plot_confusion_matrix, accuracy_score"
   ]
  },
  {
   "cell_type": "code",
   "execution_count": 77,
   "metadata": {},
   "outputs": [],
   "source": [
    "X_train, X_test, y_train, y_test = train_test_split(X, y, random_state=100)"
   ]
  },
  {
   "cell_type": "code",
   "execution_count": 41,
   "metadata": {},
   "outputs": [],
   "source": [
    "rfr = RandomForestRegressor(n_estimators=1000)"
   ]
  },
  {
   "cell_type": "code",
   "execution_count": 78,
   "metadata": {},
   "outputs": [],
   "source": [
    "rfc = RandomForestClassifier(n_estimators=1000)"
   ]
  },
  {
   "cell_type": "code",
   "execution_count": 82,
   "metadata": {},
   "outputs": [
    {
     "data": {
      "text/plain": [
       "RandomForestClassifier(n_estimators=1000)"
      ]
     },
     "execution_count": 82,
     "metadata": {},
     "output_type": "execute_result"
    }
   ],
   "source": [
    "rfc.fit(X_train, y_train)"
   ]
  },
  {
   "cell_type": "code",
   "execution_count": 83,
   "metadata": {},
   "outputs": [],
   "source": [
    "y_pred = rfc.predict(X_test)"
   ]
  },
  {
   "cell_type": "code",
   "execution_count": 91,
   "metadata": {
    "scrolled": true
   },
   "outputs": [
    {
     "name": "stderr",
     "output_type": "stream",
     "text": [
      "/Users/dillmedd/opt/anaconda3/envs/learn-env/lib/python3.8/site-packages/sklearn/linear_model/_logistic.py:762: ConvergenceWarning: lbfgs failed to converge (status=1):\n",
      "STOP: TOTAL NO. of ITERATIONS REACHED LIMIT.\n",
      "\n",
      "Increase the number of iterations (max_iter) or scale the data as shown in:\n",
      "    https://scikit-learn.org/stable/modules/preprocessing.html\n",
      "Please also refer to the documentation for alternative solver options:\n",
      "    https://scikit-learn.org/stable/modules/linear_model.html#logistic-regression\n",
      "  n_iter_i = _check_optimize_result(\n"
     ]
    },
    {
     "data": {
      "text/plain": [
       "LogisticRegression(max_iter=1000)"
      ]
     },
     "execution_count": 91,
     "metadata": {},
     "output_type": "execute_result"
    }
   ],
   "source": [
    "lr = LogisticRegression(max_iter=1000)\n",
    "lr.fit(X_train, y_train)"
   ]
  },
  {
   "cell_type": "code",
   "execution_count": 92,
   "metadata": {},
   "outputs": [],
   "source": [
    "y_pred_lr =lr.predict(X_test)"
   ]
  },
  {
   "cell_type": "code",
   "execution_count": 85,
   "metadata": {
    "scrolled": true
   },
   "outputs": [
    {
     "data": {
      "text/plain": [
       "<sklearn.metrics._plot.confusion_matrix.ConfusionMatrixDisplay at 0x7fbdedff0c40>"
      ]
     },
     "execution_count": 85,
     "metadata": {},
     "output_type": "execute_result"
    },
    {
     "data": {
      "image/png": "[encoded data removed]",
      "text/plain": [
       "<Figure size 432x288 with 2 Axes>"
      ]
     },
     "metadata": {
      "needs_background": "light"
     },
     "output_type": "display_data"
    }
   ],
   "source": [
    "plot_confusion_matrix(rfc, X_test, y_test)"
   ]
  },
  {
   "cell_type": "code",
   "execution_count": 87,
   "metadata": {},
   "outputs": [
    {
     "data": {
      "text/plain": [
       "0.49783549783549785"
      ]
     },
     "execution_count": 87,
     "metadata": {},
     "output_type": "execute_result"
    }
   ],
   "source": [
    "accuracy_score(y_test, y_pred)"
   ]
  },
  {
   "cell_type": "code",
   "execution_count": 93,
   "metadata": {},
   "outputs": [
    {
     "data": {
      "text/plain": [
       "0.49783549783549785"
      ]
     },
     "execution_count": 93,
     "metadata": {},
     "output_type": "execute_result"
    }
   ],
   "source": [
    "accuracy_score(y_test, y_pred_lr)"
   ]
  },
  {
   "cell_type": "code",
   "execution_count": 44,
   "metadata": {},
   "outputs": [],
   "source": [
    "y_test_ous = []\n",
    "y_test_results = []\n",
    "for ind in y_test.index:\n",
    "    y_test_ous.append(testdf21['Over/Under'][ind])\n",
    "    y_test_results.append(testdf21['Over/Under Result'][ind])"
   ]
  },
  {
   "cell_type": "code",
   "execution_count": 45,
   "metadata": {},
   "outputs": [],
   "source": [
    "pred_diffs = y_pred - y_test_ous"
   ]
  },
  {
   "cell_type": "code",
   "execution_count": 46,
   "metadata": {},
   "outputs": [],
   "source": [
    "model_suggestions = []\n",
    "for n in pred_diffs:\n",
    "    if n > 0:\n",
    "        model_suggestions.append('Over')\n",
    "    if n < 0:\n",
    "        model_suggestions.append('Under')\n",
    "        "
   ]
  },
  {
   "cell_type": "code",
   "execution_count": 47,
   "metadata": {},
   "outputs": [],
   "source": [
    "suggestionsdf = pd.DataFrame({'model': model_suggestions, 'actual': y_test_results})"
   ]
  },
  {
   "cell_type": "code",
   "execution_count": 58,
   "metadata": {},
   "outputs": [
    {
     "data": {
      "text/html": [
       "<div>\n",
       "<style scoped>\n",
       "    .dataframe tbody tr th:only-of-type {\n",
       "        vertical-align: middle;\n",
       "    }\n",
       "\n",
       "    .dataframe tbody tr th {\n",
       "        vertical-align: top;\n",
       "    }\n",
       "\n",
       "    .dataframe thead th {\n",
       "        text-align: right;\n",
       "    }\n",
       "</style>\n",
       "<table border=\"1\" class=\"dataframe\">\n",
       "  <thead>\n",
       "    <tr style=\"text-align: right;\">\n",
       "      <th></th>\n",
       "      <th>model</th>\n",
       "      <th>actual</th>\n",
       "    </tr>\n",
       "  </thead>\n",
       "  <tbody>\n",
       "    <tr>\n",
       "      <th>0</th>\n",
       "      <td>Over</td>\n",
       "      <td>Under</td>\n",
       "    </tr>\n",
       "    <tr>\n",
       "      <th>1</th>\n",
       "      <td>Over</td>\n",
       "      <td>Under</td>\n",
       "    </tr>\n",
       "    <tr>\n",
       "      <th>2</th>\n",
       "      <td>Over</td>\n",
       "      <td>Under</td>\n",
       "    </tr>\n",
       "    <tr>\n",
       "      <th>3</th>\n",
       "      <td>Under</td>\n",
       "      <td>Under</td>\n",
       "    </tr>\n",
       "    <tr>\n",
       "      <th>4</th>\n",
       "      <td>Over</td>\n",
       "      <td>Over</td>\n",
       "    </tr>\n",
       "    <tr>\n",
       "      <th>...</th>\n",
       "      <td>...</td>\n",
       "      <td>...</td>\n",
       "    </tr>\n",
       "    <tr>\n",
       "      <th>226</th>\n",
       "      <td>Over</td>\n",
       "      <td>Over</td>\n",
       "    </tr>\n",
       "    <tr>\n",
       "      <th>227</th>\n",
       "      <td>Over</td>\n",
       "      <td>Over</td>\n",
       "    </tr>\n",
       "    <tr>\n",
       "      <th>228</th>\n",
       "      <td>Over</td>\n",
       "      <td>Over</td>\n",
       "    </tr>\n",
       "    <tr>\n",
       "      <th>229</th>\n",
       "      <td>Over</td>\n",
       "      <td>Over</td>\n",
       "    </tr>\n",
       "    <tr>\n",
       "      <th>230</th>\n",
       "      <td>Over</td>\n",
       "      <td>Under</td>\n",
       "    </tr>\n",
       "  </tbody>\n",
       "</table>\n",
       "<p>231 rows × 2 columns</p>\n",
       "</div>"
      ],
      "text/plain": [
       "     model actual\n",
       "0     Over  Under\n",
       "1     Over  Under\n",
       "2     Over  Under\n",
       "3    Under  Under\n",
       "4     Over   Over\n",
       "..     ...    ...\n",
       "226   Over   Over\n",
       "227   Over   Over\n",
       "228   Over   Over\n",
       "229   Over   Over\n",
       "230   Over  Under\n",
       "\n",
       "[231 rows x 2 columns]"
      ]
     },
     "execution_count": 58,
     "metadata": {},
     "output_type": "execute_result"
    }
   ],
   "source": [
    "suggestionsdf"
   ]
  },
  {
   "cell_type": "code",
   "execution_count": 65,
   "metadata": {},
   "outputs": [],
   "source": [
    "for ind in list(suggestionsdf.index):\n",
    "    if suggestionsdf.model[ind] == suggestionsdf.actual[ind]:\n",
    "        suggestionsdf['result'][ind] = \"Win\"\n",
    "    else:\n",
    "        suggestionsdf['result'][ind] = 'Lose'\n",
    "    "
   ]
  },
  {
   "cell_type": "code",
   "execution_count": 68,
   "metadata": {},
   "outputs": [
    {
     "data": {
      "text/plain": [
       "Win     116\n",
       "Lose    115\n",
       "Name: result, dtype: int64"
      ]
     },
     "execution_count": 68,
     "metadata": {},
     "output_type": "execute_result"
    }
   ],
   "source": [
    "suggestionsdf.result.value_counts()"
   ]
  },
  {
   "cell_type": "code",
   "execution_count": 62,
   "metadata": {},
   "outputs": [
    {
     "data": {
      "text/plain": [
       "[0,\n",
       " 1,\n",
       " 2,\n",
       " 3,\n",
       " 4,\n",
       " 5,\n",
       " 6,\n",
       " 7,\n",
       " 8,\n",
       " 9,\n",
       " 10,\n",
       " 11,\n",
       " 12,\n",
       " 13,\n",
       " 14,\n",
       " 15,\n",
       " 16,\n",
       " 17,\n",
       " 18,\n",
       " 19,\n",
       " 20,\n",
       " 21,\n",
       " 22,\n",
       " 23,\n",
       " 24,\n",
       " 25,\n",
       " 26,\n",
       " 27,\n",
       " 28,\n",
       " 29,\n",
       " 30,\n",
       " 31,\n",
       " 32,\n",
       " 33,\n",
       " 34,\n",
       " 35,\n",
       " 36,\n",
       " 37,\n",
       " 38,\n",
       " 39,\n",
       " 40,\n",
       " 41,\n",
       " 42,\n",
       " 43,\n",
       " 44,\n",
       " 45,\n",
       " 46,\n",
       " 47,\n",
       " 48,\n",
       " 49,\n",
       " 50,\n",
       " 51,\n",
       " 52,\n",
       " 53,\n",
       " 54,\n",
       " 55,\n",
       " 56,\n",
       " 57,\n",
       " 58,\n",
       " 59,\n",
       " 60,\n",
       " 61,\n",
       " 62,\n",
       " 63,\n",
       " 64,\n",
       " 65,\n",
       " 66,\n",
       " 67,\n",
       " 68,\n",
       " 69,\n",
       " 70,\n",
       " 71,\n",
       " 72,\n",
       " 73,\n",
       " 74,\n",
       " 75,\n",
       " 76,\n",
       " 77,\n",
       " 78,\n",
       " 79,\n",
       " 80,\n",
       " 81,\n",
       " 82,\n",
       " 83,\n",
       " 84,\n",
       " 85,\n",
       " 86,\n",
       " 87,\n",
       " 88,\n",
       " 89,\n",
       " 90,\n",
       " 91,\n",
       " 92,\n",
       " 93,\n",
       " 94,\n",
       " 95,\n",
       " 96,\n",
       " 97,\n",
       " 98,\n",
       " 99,\n",
       " 100,\n",
       " 101,\n",
       " 102,\n",
       " 103,\n",
       " 104,\n",
       " 105,\n",
       " 106,\n",
       " 107,\n",
       " 108,\n",
       " 109,\n",
       " 110,\n",
       " 111,\n",
       " 112,\n",
       " 113,\n",
       " 114,\n",
       " 115,\n",
       " 116,\n",
       " 117,\n",
       " 118,\n",
       " 119,\n",
       " 120,\n",
       " 121,\n",
       " 122,\n",
       " 123,\n",
       " 124,\n",
       " 125,\n",
       " 126,\n",
       " 127,\n",
       " 128,\n",
       " 129,\n",
       " 130,\n",
       " 131,\n",
       " 132,\n",
       " 133,\n",
       " 134,\n",
       " 135,\n",
       " 136,\n",
       " 137,\n",
       " 138,\n",
       " 139,\n",
       " 140,\n",
       " 141,\n",
       " 142,\n",
       " 143,\n",
       " 144,\n",
       " 145,\n",
       " 146,\n",
       " 147,\n",
       " 148,\n",
       " 149,\n",
       " 150,\n",
       " 151,\n",
       " 152,\n",
       " 153,\n",
       " 154,\n",
       " 155,\n",
       " 156,\n",
       " 157,\n",
       " 158,\n",
       " 159,\n",
       " 160,\n",
       " 161,\n",
       " 162,\n",
       " 163,\n",
       " 164,\n",
       " 165,\n",
       " 166,\n",
       " 167,\n",
       " 168,\n",
       " 169,\n",
       " 170,\n",
       " 171,\n",
       " 172,\n",
       " 173,\n",
       " 174,\n",
       " 175,\n",
       " 176,\n",
       " 177,\n",
       " 178,\n",
       " 179,\n",
       " 180,\n",
       " 181,\n",
       " 182,\n",
       " 183,\n",
       " 184,\n",
       " 185,\n",
       " 186,\n",
       " 187,\n",
       " 188,\n",
       " 189,\n",
       " 190,\n",
       " 191,\n",
       " 192,\n",
       " 193,\n",
       " 194,\n",
       " 195,\n",
       " 196,\n",
       " 197,\n",
       " 198,\n",
       " 199,\n",
       " 200,\n",
       " 201,\n",
       " 202,\n",
       " 203,\n",
       " 204,\n",
       " 205,\n",
       " 206,\n",
       " 207,\n",
       " 208,\n",
       " 209,\n",
       " 210,\n",
       " 211,\n",
       " 212,\n",
       " 213,\n",
       " 214,\n",
       " 215,\n",
       " 216,\n",
       " 217,\n",
       " 218,\n",
       " 219,\n",
       " 220,\n",
       " 221,\n",
       " 222,\n",
       " 223,\n",
       " 224,\n",
       " 225,\n",
       " 226,\n",
       " 227,\n",
       " 228,\n",
       " 229,\n",
       " 230]"
      ]
     },
     "execution_count": 62,
     "metadata": {},
     "output_type": "execute_result"
    }
   ],
   "source": [
    "list(suggestionsdf.index)"
   ]
  },
  {
   "cell_type": "code",
   "execution_count": null,
   "metadata": {},
   "outputs": [],
   "source": []
  }
 ],
 "metadata": {
  "kernelspec": {
   "display_name": "Python (learn-env)",
   "language": "python",
   "name": "learn-env"
  },
  "language_info": {
   "codemirror_mode": {
    "name": "ipython",
    "version": 3
   },
   "file_extension": ".py",
   "mimetype": "text/x-python",
   "name": "python",
   "nbconvert_exporter": "python",
   "pygments_lexer": "ipython3",
   "version": "3.8.5"
  }
 },
 "nbformat": 4,
 "nbformat_minor": 4
}

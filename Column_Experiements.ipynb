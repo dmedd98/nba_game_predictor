{
 "cells": [
  {
   "cell_type": "code",
   "execution_count": 1,
   "metadata": {},
   "outputs": [],
   "source": [
    "from sklearn.linear_model import Lasso\n",
    "import pandas as pd\n",
    "import pickle\n",
    "from sklearn.model_selection import train_test_split"
   ]
  },
  {
   "cell_type": "code",
   "execution_count": 9,
   "metadata": {},
   "outputs": [],
   "source": [
    "pd.set_option('display.max_columns', None)"
   ]
  },
  {
   "cell_type": "code",
   "execution_count": 2,
   "metadata": {},
   "outputs": [],
   "source": [
    "with open('data/pickles/model_df21.p', 'rb') as readfile: \n",
    "    model_df21 = pickle.load(readfile)\n",
    "    \n",
    "with open('data/pickles/model_df20.p', 'rb') as readfile: \n",
    "    model_df20 = pickle.load(readfile)\n",
    "    \n",
    "with open('data/pickles/model_df19.p', 'rb') as readfile: \n",
    "    model_df19 = pickle.load(readfile)\n",
    "    \n",
    "with open('data/pickles/model_df18.p', 'rb') as readfile: \n",
    "    model_df18 = pickle.load(readfile)\n",
    "    \n",
    "with open('data/pickles/model_df17.p', 'rb') as readfile: \n",
    "    model_df17 = pickle.load(readfile)"
   ]
  },
  {
   "cell_type": "code",
   "execution_count": 4,
   "metadata": {},
   "outputs": [],
   "source": [
    "def combine_team_games(df, keep_method='home'):\n",
    "    '''Combine a TEAM_ID-GAME_ID unique table into rows by game. Slow.\n",
    "\n",
    "        Parameters\n",
    "        ----------\n",
    "        df : Input DataFrame.\n",
    "        keep_method : {'home', 'away', 'winner', 'loser', ``None``}, default 'home'\n",
    "            - 'home' : Keep rows where TEAM_A is the home team.\n",
    "            - 'away' : Keep rows where TEAM_A is the away team.\n",
    "            - 'winner' : Keep rows where TEAM_A is the losing team.\n",
    "            - 'loser' : Keep rows where TEAM_A is the winning team.\n",
    "            - ``None`` : Keep all rows. Will result in an output DataFrame the same\n",
    "                length as the input DataFrame.\n",
    "                \n",
    "        Returns\n",
    "        -------\n",
    "        result : DataFrame\n",
    "    '''\n",
    "    # Join every row to all others with the same game ID.\n",
    "    joined = pd.merge(df, df, suffixes=['_Home', '_Away'],\n",
    "                      on=['GAME_ID', 'GAME_DATE'])\n",
    "    # Filter out any row that is joined to itself.\n",
    "    result = joined[joined.TEAM_ID_Home != joined.TEAM_ID_Away]\n",
    "    # Take action based on the keep_method flag.\n",
    "    if keep_method is None:\n",
    "        # Return all the rows.\n",
    "        pass\n",
    "    elif keep_method.lower() == 'home':\n",
    "        # Keep rows where TEAM_A is the home team.\n",
    "        result = result[result.MATCHUP_Home.str.contains(' vs. ')]\n",
    "    elif keep_method.lower() == 'away':\n",
    "        # Keep rows where TEAM_A is the away team.\n",
    "        result = result[result.MATCHUP_A.str.contains(' @ ')]\n",
    "    elif keep_method.lower() == 'winner':\n",
    "        result = result[result.WL_A == 'W']\n",
    "    elif keep_method.lower() == 'loser':\n",
    "        result = result[result.WL_A == 'L']\n",
    "    else:\n",
    "        raise ValueError(f'Invalid keep_method: {keep_method}')\n",
    "    return result"
   ]
  },
  {
   "cell_type": "code",
   "execution_count": 5,
   "metadata": {},
   "outputs": [],
   "source": [
    "testdf21 = combine_team_games(model_df21)\n",
    "testdf20 = combine_team_games(model_df20)\n",
    "testdf19 = combine_team_games(model_df19)\n",
    "testdf18 = combine_team_games(model_df18)\n",
    "testdf17 = combine_team_games(model_df17)"
   ]
  },
  {
   "cell_type": "code",
   "execution_count": 6,
   "metadata": {},
   "outputs": [],
   "source": [
    "drop_columns = ['PTS Away_Home',\n",
    " 'PLUS_MINUS Away_Home',\n",
    " 'FG_PCT Away_Home',\n",
    " 'FG3_PCT Away_Home',\n",
    " 'FT_PCT Away_Home',\n",
    " 'EFG_PCT_y Away_Home',\n",
    " 'FTA_RATE Away_Home',\n",
    " 'TM_TOV_PCT_y Away_Home',\n",
    " 'OREB_PCT_y Away_Home',\n",
    " 'OPP_EFG_PCT Away_Home',\n",
    " 'OPP_FTA_RATE Away_Home',\n",
    " 'OPP_TOV_PCT Away_Home',\n",
    " 'OPP_OREB_PCT Away_Home',\n",
    " 'PIE Away_Home',\n",
    " 'OFF_RATING Away_Home',\n",
    " 'DEF_RATING Away_Home',\n",
    " 'NET_RATING Away_Home',\n",
    " 'TS_PCT Away_Home',\n",
    " 'PACE Away_Home',\n",
    " 'AST_TOV Away_Home',\n",
    " 'PTS_ALLOWED Away_Home',\n",
    "'PTS Home_Away',\n",
    " 'PLUS_MINUS Home_Away',\n",
    " 'FG_PCT Home_Away',\n",
    " 'FG3_PCT Home_Away',\n",
    " 'FT_PCT Home_Away',\n",
    " 'EFG_PCT_y Home_Away',\n",
    " 'FTA_RATE Home_Away',\n",
    " 'TM_TOV_PCT_y Home_Away',\n",
    " 'OREB_PCT_y Home_Away',\n",
    " 'OPP_EFG_PCT Home_Away',\n",
    " 'OPP_FTA_RATE Home_Away',\n",
    " 'OPP_TOV_PCT Home_Away',\n",
    " 'OPP_OREB_PCT Home_Away',\n",
    " 'PIE Home_Away',\n",
    " 'OFF_RATING Home_Away',\n",
    " 'DEF_RATING Home_Away',\n",
    " 'NET_RATING Home_Away',\n",
    " 'TS_PCT Home_Away',\n",
    " 'PACE Home_Away',\n",
    " 'AST_TOV Home_Away',\n",
    " 'PTS_ALLOWED Home_Away']"
   ]
  },
  {
   "cell_type": "code",
   "execution_count": 7,
   "metadata": {},
   "outputs": [],
   "source": [
    "testdf21.drop(labels = drop_columns, axis=1, inplace=True)\n",
    "testdf20.drop(labels = drop_columns, axis=1, inplace=True)\n",
    "testdf19.drop(labels = drop_columns, axis=1, inplace=True)\n",
    "testdf18.drop(labels = drop_columns, axis=1, inplace=True)\n",
    "testdf17.drop(labels = drop_columns, axis=1, inplace=True)"
   ]
  },
  {
   "cell_type": "code",
   "execution_count": 11,
   "metadata": {},
   "outputs": [],
   "source": [
    "test_columns = ['PTS LAST 5_Home',\n",
    " 'PLUS_MINUS LAST 5_Home',\n",
    "'FG_PCT LAST 5_Home',\n",
    " 'FG3_PCT LAST 5_Home',\n",
    " 'FT_PCT LAST 5_Home',\n",
    " 'EFG_PCT_y LAST 5_Home',\n",
    " 'FTA_RATE LAST 5_Home',\n",
    " 'TM_TOV_PCT_y LAST 5_Home',\n",
    " 'OREB_PCT_y LAST 5_Home',\n",
    " 'OPP_EFG_PCT LAST 5_Home',\n",
    " 'OPP_FTA_RATE LAST 5_Home',\n",
    " 'OPP_TOV_PCT LAST 5_Home',\n",
    " 'OPP_OREB_PCT LAST 5_Home',\n",
    " 'PIE LAST 5_Home',\n",
    " 'OFF_RATING LAST 5_Home',\n",
    " 'DEF_RATING LAST 5_Home',\n",
    " 'NET_RATING LAST 5_Home',\n",
    " 'TS_PCT LAST 5_Home',\n",
    " 'PACE LAST 5_Home',\n",
    " 'AST_TOV LAST 5_Home',\n",
    " 'PTS_ALLOWED LAST 5_Home',\n",
    " 'PTS LAST 10_Home',\n",
    " 'PLUS_MINUS LAST 10_Home',\n",
    "'FG_PCT LAST 10_Home',\n",
    " 'FG3_PCT LAST 10_Home',\n",
    " 'FT_PCT LAST 10_Home',\n",
    " 'EFG_PCT_y LAST 10_Home',\n",
    " 'FTA_RATE LAST 10_Home',\n",
    " 'TM_TOV_PCT_y LAST 10_Home',\n",
    " 'OREB_PCT_y LAST 10_Home',\n",
    " 'OPP_EFG_PCT LAST 10_Home',\n",
    " 'OPP_FTA_RATE LAST 10_Home',\n",
    " 'OPP_TOV_PCT LAST 10_Home',\n",
    " 'OPP_OREB_PCT LAST 10_Home',\n",
    " 'PIE LAST 10_Home',\n",
    " 'OFF_RATING LAST 10_Home',\n",
    " 'DEF_RATING LAST 10_Home',\n",
    " 'NET_RATING LAST 10_Home',\n",
    " 'TS_PCT LAST 10_Home',\n",
    " 'PACE LAST 10_Home',\n",
    " 'AST_TOV LAST 10_Home',\n",
    " 'PTS_ALLOWED LAST 10_Home',\n",
    " 'HOME_TEAM_Home',\n",
    " 'PTS Season_Home',\n",
    " 'PLUS_MINUS Season_Home',\n",
    "'FG_PCT Season_Home',\n",
    " 'FG3_PCT Season_Home',\n",
    " 'FT_PCT Season_Home',\n",
    " 'EFG_PCT_y Season_Home',\n",
    " 'FTA_RATE Season_Home',\n",
    " 'TM_TOV_PCT_y Season_Home',\n",
    " 'OREB_PCT_y Season_Home',\n",
    " 'OPP_EFG_PCT Season_Home',\n",
    " 'OPP_FTA_RATE Season_Home',\n",
    " 'OPP_TOV_PCT Season_Home',\n",
    " 'OPP_OREB_PCT Season_Home',\n",
    " 'PIE Season_Home',\n",
    " 'OFF_RATING Season_Home',\n",
    " 'DEF_RATING Season_Home',\n",
    " 'NET_RATING Season_Home',\n",
    " 'TS_PCT Season_Home',\n",
    " 'PACE Season_Home',\n",
    " 'AST_TOV Season_Home',\n",
    " 'PTS_ALLOWED Season_Home',\n",
    " 'WIN_%_Home',\n",
    " 'back_to_back_Home', \n",
    " 'PTS Home_Home',\n",
    " 'PLUS_MINUS Home_Home',\n",
    " 'FG_PCT Home_Home',\n",
    " 'FG3_PCT Home_Home',\n",
    " 'FT_PCT Home_Home',\n",
    " 'EFG_PCT_y Home_Home',\n",
    " 'FTA_RATE Home_Home',\n",
    " 'TM_TOV_PCT_y Home_Home',\n",
    " 'OREB_PCT_y Home_Home',\n",
    " 'OPP_EFG_PCT Home_Home',\n",
    " 'OPP_FTA_RATE Home_Home',\n",
    " 'OPP_TOV_PCT Home_Home',\n",
    " 'OPP_OREB_PCT Home_Home',\n",
    " 'PIE Home_Home',\n",
    " 'OFF_RATING Home_Home',\n",
    " 'DEF_RATING Home_Home',\n",
    " 'NET_RATING Home_Home',\n",
    " 'TS_PCT Home_Home',\n",
    " 'PACE Home_Home',\n",
    " 'AST_TOV Home_Home',\n",
    " 'PTS_ALLOWED Home_Home',\n",
    "  'PTS LAST 5_Away',\n",
    "'FG_PCT LAST 5_Away',\n",
    " 'FG3_PCT LAST 5_Away',\n",
    " 'FT_PCT LAST 5_Away',\n",
    " 'PLUS_MINUS LAST 5_Away',\n",
    " 'EFG_PCT_y LAST 5_Away',\n",
    " 'FTA_RATE LAST 5_Away',\n",
    " 'TM_TOV_PCT_y LAST 5_Away',\n",
    " 'OREB_PCT_y LAST 5_Away',\n",
    " 'OPP_EFG_PCT LAST 5_Away',\n",
    " 'OPP_FTA_RATE LAST 5_Away',\n",
    " 'OPP_TOV_PCT LAST 5_Away',\n",
    " 'OPP_OREB_PCT LAST 5_Away',\n",
    " 'PIE LAST 5_Away',\n",
    " 'OFF_RATING LAST 5_Away',\n",
    " 'DEF_RATING LAST 5_Away',\n",
    " 'NET_RATING LAST 5_Away',\n",
    " 'TS_PCT LAST 5_Away',\n",
    " 'PACE LAST 5_Away',\n",
    " 'AST_TOV LAST 5_Away',\n",
    " 'PTS_ALLOWED LAST 5_Away',\n",
    " 'PTS LAST 10_Away',\n",
    " 'PLUS_MINUS LAST 10_Away',\n",
    "'FG_PCT LAST 10_Away',\n",
    " 'FG3_PCT LAST 10_Away',\n",
    " 'FT_PCT LAST 10_Away',\n",
    " 'EFG_PCT_y LAST 10_Away',\n",
    " 'FTA_RATE LAST 10_Away',\n",
    " 'TM_TOV_PCT_y LAST 10_Away',\n",
    " 'OREB_PCT_y LAST 10_Away',\n",
    " 'OPP_EFG_PCT LAST 10_Away',\n",
    " 'OPP_FTA_RATE LAST 10_Away',\n",
    " 'OPP_TOV_PCT LAST 10_Away',\n",
    " 'OPP_OREB_PCT LAST 10_Away',\n",
    " 'PIE LAST 10_Away',\n",
    " 'OFF_RATING LAST 10_Away',\n",
    " 'DEF_RATING LAST 10_Away',\n",
    " 'NET_RATING LAST 10_Away',\n",
    " 'TS_PCT LAST 10_Away',\n",
    " 'PACE LAST 10_Away',\n",
    " 'AST_TOV LAST 10_Away',\n",
    " 'PTS_ALLOWED LAST 10_Away',\n",
    " 'HOME_TEAM_Away',\n",
    " 'PTS Season_Away',\n",
    " 'PLUS_MINUS Season_Away',\n",
    "'FG_PCT Season_Away',\n",
    " 'FG3_PCT Season_Away',\n",
    " 'FT_PCT Season_Away',\n",
    " 'EFG_PCT_y Season_Away',\n",
    " 'FTA_RATE Season_Away',\n",
    " 'TM_TOV_PCT_y Season_Away',\n",
    " 'OREB_PCT_y Season_Away',\n",
    " 'OPP_EFG_PCT Season_Away',\n",
    " 'OPP_FTA_RATE Season_Away',\n",
    " 'OPP_TOV_PCT Season_Away',\n",
    " 'OPP_OREB_PCT Season_Away',\n",
    " 'PIE Season_Away',\n",
    " 'OFF_RATING Season_Away',\n",
    " 'DEF_RATING Season_Away',\n",
    " 'NET_RATING Season_Away',\n",
    " 'TS_PCT Season_Away',\n",
    " 'PACE Season_Away',\n",
    " 'AST_TOV Season_Away',\n",
    " 'PTS_ALLOWED Season_Away',\n",
    "  'WIN_%_Away',\n",
    "  'back_to_back_Away',\n",
    "  'PTS Away_Away',\n",
    " 'PLUS_MINUS Away_Away',\n",
    " 'FG_PCT Away_Away',\n",
    " 'FG3_PCT Away_Away',\n",
    " 'FT_PCT Away_Away',\n",
    " 'EFG_PCT_y Away_Away',\n",
    " 'FTA_RATE Away_Away',\n",
    " 'TM_TOV_PCT_y Away_Away',\n",
    " 'OREB_PCT_y Away_Away',\n",
    " 'OPP_EFG_PCT Away_Away',\n",
    " 'OPP_FTA_RATE Away_Away',\n",
    " 'OPP_TOV_PCT Away_Away',\n",
    " 'OPP_OREB_PCT Away_Away',\n",
    " 'PIE Away_Away',\n",
    " 'OFF_RATING Away_Away',\n",
    " 'DEF_RATING Away_Away',\n",
    " 'NET_RATING Away_Away',\n",
    " 'TS_PCT Away_Away',\n",
    " 'PACE Away_Away',\n",
    " 'AST_TOV Away_Away',\n",
    " 'PTS_ALLOWED Away_Away']"
   ]
  },
  {
   "cell_type": "code",
   "execution_count": 24,
   "metadata": {},
   "outputs": [],
   "source": [
    "ff_columns = ['EFG_PCT_y LAST 10_Home',\n",
    " 'FTA_RATE LAST 10_Home',\n",
    " 'TM_TOV_PCT_y LAST 10_Home',\n",
    " 'OREB_PCT_y LAST 10_Home',\n",
    " 'OPP_EFG_PCT LAST 10_Home',\n",
    " 'OPP_FTA_RATE LAST 10_Home',\n",
    " 'OPP_TOV_PCT LAST 10_Home',\n",
    " 'OPP_OREB_PCT LAST 10_Home',\n",
    "  'EFG_PCT_y LAST 10_Away',\n",
    " 'FTA_RATE LAST 10_Away',\n",
    " 'TM_TOV_PCT_y LAST 10_Away',\n",
    " 'OREB_PCT_y LAST 10_Away',\n",
    " 'OPP_EFG_PCT LAST 10_Away',\n",
    " 'OPP_FTA_RATE LAST 10_Away',\n",
    " 'OPP_TOV_PCT LAST 10_Away',\n",
    " 'OPP_OREB_PCT LAST 10_Away',\n",
    "   'EFG_PCT_y Season_Home',\n",
    " 'FTA_RATE Season_Home',\n",
    " 'TM_TOV_PCT_y Season_Home',\n",
    " 'OREB_PCT_y Season_Home',\n",
    " 'OPP_EFG_PCT Season_Home',\n",
    " 'OPP_FTA_RATE Season_Home',\n",
    " 'OPP_TOV_PCT Season_Home',\n",
    " 'OPP_OREB_PCT Season_Home',\n",
    "'EFG_PCT_y Season_Away',\n",
    " 'FTA_RATE Season_Away',\n",
    " 'TM_TOV_PCT_y Season_Away',\n",
    " 'OREB_PCT_y Season_Away',\n",
    " 'OPP_EFG_PCT Season_Away',\n",
    " 'OPP_FTA_RATE Season_Away',\n",
    " 'OPP_TOV_PCT Season_Away',\n",
    " 'OPP_OREB_PCT Season_Away',]"
   ]
  },
  {
   "cell_type": "code",
   "execution_count": 69,
   "metadata": {},
   "outputs": [],
   "source": [
    "cols = ['PIE LAST 5_Home',\n",
    " 'OFF_RATING LAST 5_Home',\n",
    " 'DEF_RATING LAST 5_Home',\n",
    " 'NET_RATING LAST 5_Home',\n",
    " 'TS_PCT LAST 5_Home',\n",
    " 'PIE Home_Home',\n",
    " 'OFF_RATING Home_Home',\n",
    " 'DEF_RATING Home_Home',\n",
    " 'NET_RATING Home_Home',\n",
    " 'TS_PCT Home_Home',\n",
    " 'PIE LAST 5_Away',\n",
    " 'OFF_RATING LAST 5_Away',\n",
    " 'DEF_RATING LAST 5_Away',\n",
    " 'NET_RATING LAST 5_Away',\n",
    " 'TS_PCT LAST 5_Away',\n",
    "  'PIE Away_Away',\n",
    " 'OFF_RATING Away_Away',\n",
    " 'DEF_RATING Away_Away',\n",
    " 'NET_RATING Away_Away',\n",
    " 'TS_PCT Away_Away']"
   ]
  },
  {
   "cell_type": "code",
   "execution_count": 101,
   "metadata": {},
   "outputs": [],
   "source": [
    "simp = ['PIE Home_Home',\n",
    " 'OFF_RATING Home_Home',\n",
    " 'DEF_RATING Home_Home',\n",
    " 'NET_RATING Home_Home',\n",
    " 'TS_PCT Home_Home',\n",
    " 'PIE Away_Away',\n",
    " 'OFF_RATING Away_Away',\n",
    " 'DEF_RATING Away_Away',\n",
    " 'NET_RATING Away_Away',\n",
    " 'TS_PCT Away_Away',\n",
    "'HOME_TEAM_Home',\n",
    " 'HOME_TEAM_Away']"
   ]
  },
  {
   "cell_type": "code",
   "execution_count": 102,
   "metadata": {},
   "outputs": [],
   "source": [
    "last5 = ['PIE LAST 5_Home', 'NET_RATING LAST 5_Home',\n",
    " 'TS_PCT LAST 5_Home', 'PIE LAST 5_Away',  'NET_RATING LAST 5_Away',\n",
    " 'TS_PCT LAST 5_Away','HOME_TEAM_Home',\n",
    " 'HOME_TEAM_Away' ]"
   ]
  },
  {
   "cell_type": "code",
   "execution_count": 44,
   "metadata": {},
   "outputs": [],
   "source": [
    "testdf21['PTS_Total'] = testdf21['PTS_Home'] + testdf21['PTS_Away']"
   ]
  },
  {
   "cell_type": "code",
   "execution_count": 16,
   "metadata": {},
   "outputs": [],
   "source": [
    "testdf21.dropna(inplace=True)"
   ]
  },
  {
   "cell_type": "code",
   "execution_count": 103,
   "metadata": {},
   "outputs": [],
   "source": [
    "y = testdf21.WIN_Home\n",
    "X = testdf21[last5]"
   ]
  },
  {
   "cell_type": "code",
   "execution_count": 104,
   "metadata": {},
   "outputs": [],
   "source": [
    "X_train, X_test, y_train, y_test = train_test_split(X, y, random_state=42)"
   ]
  },
  {
   "cell_type": "code",
   "execution_count": 52,
   "metadata": {},
   "outputs": [],
   "source": [
    "from sklearn.ensemble import RandomForestClassifier\n",
    "from sklearn.metrics import accuracy_score, plot_confusion_matrix"
   ]
  },
  {
   "cell_type": "code",
   "execution_count": 105,
   "metadata": {},
   "outputs": [],
   "source": [
    "rand=RandomForestClassifier(n_estimators=100,random_state=42)\n",
    "rand.fit(X_train, y_train)\n",
    "y_pred_r = rand.predict(X_test)"
   ]
  },
  {
   "cell_type": "code",
   "execution_count": 106,
   "metadata": {},
   "outputs": [
    {
     "data": {
      "text/plain": [
       "0.5670995670995671"
      ]
     },
     "execution_count": 106,
     "metadata": {},
     "output_type": "execute_result"
    }
   ],
   "source": [
    "accuracy_score(y_test, y_pred_r)"
   ]
  },
  {
   "cell_type": "code",
   "execution_count": 57,
   "metadata": {},
   "outputs": [],
   "source": [
    "from sklearn.svm import SVC\n",
    "from sklearn.preprocessing import StandardScaler"
   ]
  },
  {
   "cell_type": "code",
   "execution_count": 107,
   "metadata": {},
   "outputs": [],
   "source": [
    "ss = StandardScaler()\n",
    "X_train_sc = ss.fit_transform(X_train)\n",
    "X_test_sc = ss.transform(X_test)"
   ]
  },
  {
   "cell_type": "code",
   "execution_count": 108,
   "metadata": {},
   "outputs": [],
   "source": [
    "svc = SVC()\n",
    "svc.fit(X_train_sc, y_train)\n",
    "y_pred_svc = svc.predict(X_test_sc)"
   ]
  },
  {
   "cell_type": "code",
   "execution_count": 109,
   "metadata": {},
   "outputs": [
    {
     "data": {
      "text/plain": [
       "0.6190476190476191"
      ]
     },
     "execution_count": 109,
     "metadata": {},
     "output_type": "execute_result"
    }
   ],
   "source": [
    "accuracy_score(y_test, y_pred_svc)"
   ]
  },
  {
   "cell_type": "code",
   "execution_count": 66,
   "metadata": {},
   "outputs": [],
   "source": [
    "import statsmodels.api as sm"
   ]
  },
  {
   "cell_type": "code",
   "execution_count": 67,
   "metadata": {},
   "outputs": [],
   "source": [
    "sm_X = sm.add_constant(X)"
   ]
  },
  {
   "cell_type": "code",
   "execution_count": 68,
   "metadata": {},
   "outputs": [
    {
     "name": "stdout",
     "output_type": "stream",
     "text": [
      "Optimization terminated successfully.\n",
      "         Current function value: 0.610534\n",
      "         Iterations 6\n",
      "                           Logit Regression Results                           \n",
      "==============================================================================\n",
      "Dep. Variable:               WIN_Home   No. Observations:                  924\n",
      "Model:                          Logit   Df Residuals:                      891\n",
      "Method:                           MLE   Df Model:                           32\n",
      "Date:                Tue, 19 Oct 2021   Pseudo R-squ.:                  0.1117\n",
      "Time:                        16:24:28   Log-Likelihood:                -564.13\n",
      "converged:                       True   LL-Null:                       -635.05\n",
      "Covariance Type:            nonrobust   LLR p-value:                 8.884e-16\n",
      "=============================================================================================\n",
      "                                coef    std err          z      P>|z|      [0.025      0.975]\n",
      "---------------------------------------------------------------------------------------------\n",
      "const                         3.3954      5.826      0.583      0.560      -8.023      14.814\n",
      "EFG_PCT_y LAST 10_Home        4.9178      4.771      1.031      0.303      -4.434      14.269\n",
      "FTA_RATE LAST 10_Home         3.3560      3.359      0.999      0.318      -3.228       9.940\n",
      "TM_TOV_PCT_y LAST 10_Home    -1.5182      7.663     -0.198      0.843     -16.538      13.502\n",
      "OREB_PCT_y LAST 10_Home       0.0275      4.402      0.006      0.995      -8.600       8.655\n",
      "OPP_EFG_PCT LAST 10_Home      7.0148      4.226      1.660      0.097      -1.268      15.297\n",
      "OPP_FTA_RATE LAST 10_Home    -0.7022      3.639     -0.193      0.847      -7.833       6.429\n",
      "OPP_TOV_PCT LAST 10_Home      3.9018      7.690      0.507      0.612     -11.171      18.974\n",
      "OPP_OREB_PCT LAST 10_Home    -4.8065      4.176     -1.151      0.250     -12.991       3.378\n",
      "EFG_PCT_y LAST 10_Away       -7.2300      4.692     -1.541      0.123     -16.427       1.967\n",
      "FTA_RATE LAST 10_Away        -0.2009      3.431     -0.059      0.953      -6.925       6.523\n",
      "TM_TOV_PCT_y LAST 10_Away     7.2987      7.593      0.961      0.336      -7.584      22.181\n",
      "OREB_PCT_y LAST 10_Away      -3.8636      4.320     -0.894      0.371     -12.331       4.604\n",
      "OPP_EFG_PCT LAST 10_Away      2.9412      4.664      0.631      0.528      -6.200      12.082\n",
      "OPP_FTA_RATE LAST 10_Away     1.3453      3.399      0.396      0.692      -5.317       8.008\n",
      "OPP_TOV_PCT LAST 10_Away    -10.8117      7.721     -1.400      0.161     -25.944       4.321\n",
      "OPP_OREB_PCT LAST 10_Away     2.2562      4.360      0.517      0.605      -6.290      10.802\n",
      "EFG_PCT_y Season_Home        17.2440      6.276      2.748      0.006       4.944      29.544\n",
      "FTA_RATE Season_Home         -0.4496      4.926     -0.091      0.927     -10.105       9.205\n",
      "TM_TOV_PCT_y Season_Home    -11.1695     11.173     -1.000      0.317     -33.067      10.728\n",
      "OREB_PCT_y Season_Home       11.8206      5.344      2.212      0.027       1.346      22.296\n",
      "OPP_EFG_PCT Season_Home     -31.5275      7.145     -4.413      0.000     -45.531     -17.524\n",
      "OPP_FTA_RATE Season_Home      2.6493      4.685      0.566      0.572      -6.533      11.831\n",
      "OPP_TOV_PCT Season_Home       0.7971     11.464      0.070      0.945     -21.672      23.266\n",
      "OPP_OREB_PCT Season_Home     -1.9127      7.556     -0.253      0.800     -16.722      12.896\n",
      "EFG_PCT_y Season_Away       -10.4764      5.984     -1.751      0.080     -22.205       1.252\n",
      "FTA_RATE Season_Away         -0.4837      5.043     -0.096      0.924     -10.368       9.401\n",
      "TM_TOV_PCT_y Season_Away     15.1534     11.298      1.341      0.180      -6.991      37.298\n",
      "OREB_PCT_y Season_Away        6.6199      5.434      1.218      0.223      -4.030      17.270\n",
      "OPP_EFG_PCT Season_Away       0.3539      7.268      0.049      0.961     -13.891      14.599\n",
      "OPP_FTA_RATE Season_Away      2.6991      4.718      0.572      0.567      -6.548      11.946\n",
      "OPP_TOV_PCT Season_Away       1.9219     11.335      0.170      0.865     -20.295      24.139\n",
      "OPP_OREB_PCT Season_Away      5.1898      7.500      0.692      0.489      -9.511      19.890\n",
      "=============================================================================================\n"
     ]
    }
   ],
   "source": [
    "mod = sm.Logit(y, sm_X)\n",
    "res = mod.fit()\n",
    "print(res.summary())"
   ]
  },
  {
   "cell_type": "code",
   "execution_count": 77,
   "metadata": {},
   "outputs": [
    {
     "name": "stdout",
     "output_type": "stream",
     "text": [
      "Optimization terminated successfully.\n",
      "         Current function value: 0.619412\n",
      "         Iterations 5\n",
      "                           Logit Regression Results                           \n",
      "==============================================================================\n",
      "Dep. Variable:               WIN_Home   No. Observations:                  924\n",
      "Model:                          Logit   Df Residuals:                      904\n",
      "Method:                           MLE   Df Model:                           19\n",
      "Date:                Tue, 19 Oct 2021   Pseudo R-squ.:                 0.09875\n",
      "Time:                        16:39:42   Log-Likelihood:                -572.34\n",
      "converged:                       True   LL-Null:                       -635.05\n",
      "Covariance Type:            nonrobust   LLR p-value:                 1.067e-17\n",
      "==========================================================================================\n",
      "                             coef    std err          z      P>|z|      [0.025      0.975]\n",
      "------------------------------------------------------------------------------------------\n",
      "PIE LAST 5_Home           -5.3369      5.817     -0.917      0.359     -16.739       6.065\n",
      "OFF_RATING LAST 5_Home    -4.4999      3.518     -1.279      0.201     -11.395       2.396\n",
      "DEF_RATING LAST 5_Home     4.4687      3.519      1.270      0.204      -2.428      11.366\n",
      "NET_RATING LAST 5_Home     4.5073      3.519      1.281      0.200      -2.391      11.405\n",
      "TS_PCT LAST 5_Home        10.0694      5.522      1.823      0.068      -0.754      20.893\n",
      "PIE Home_Home             22.8655      9.286      2.462      0.014       4.666      41.065\n",
      "OFF_RATING Home_Home       3.9915      6.489      0.615      0.538      -8.727      16.710\n",
      "DEF_RATING Home_Home      -3.8853      6.487     -0.599      0.549     -16.599       8.828\n",
      "NET_RATING Home_Home      -3.9474      6.491     -0.608      0.543     -16.669       8.774\n",
      "TS_PCT Home_Home         -12.9747      7.590     -1.710      0.087     -27.850       1.901\n",
      "PIE LAST 5_Away            4.2713      5.878      0.727      0.467      -7.250      15.792\n",
      "OFF_RATING LAST 5_Away    -9.5782      3.722     -2.574      0.010     -16.872      -2.284\n",
      "DEF_RATING LAST 5_Away     9.5450      3.720      2.566      0.010       2.254      16.836\n",
      "NET_RATING LAST 5_Away     9.5169      3.719      2.559      0.010       2.228      16.805\n",
      "TS_PCT LAST 5_Away         3.4247      5.424      0.631      0.528      -7.206      14.055\n",
      "PIE Away_Away            -23.9584      8.527     -2.810      0.005     -40.671      -7.245\n",
      "OFF_RATING Away_Away      13.8590      6.522      2.125      0.034       1.077      26.641\n",
      "DEF_RATING Away_Away     -13.9118      6.523     -2.133      0.033     -26.696      -1.127\n",
      "NET_RATING Away_Away     -13.8193      6.520     -2.120      0.034     -26.598      -1.041\n",
      "TS_PCT Away_Away           3.7848      9.189      0.412      0.680     -14.225      21.795\n",
      "==========================================================================================\n"
     ]
    }
   ],
   "source": [
    "mod = sm.Logit(y, X)\n",
    "res = mod.fit()\n",
    "print(res.summary())"
   ]
  },
  {
   "cell_type": "code",
   "execution_count": null,
   "metadata": {},
   "outputs": [],
   "source": []
  }
 ],
 "metadata": {
  "kernelspec": {
   "display_name": "Python (learn-env)",
   "language": "python",
   "name": "learn-env"
  },
  "language_info": {
   "codemirror_mode": {
    "name": "ipython",
    "version": 3
   },
   "file_extension": ".py",
   "mimetype": "text/x-python",
   "name": "python",
   "nbconvert_exporter": "python",
   "pygments_lexer": "ipython3",
   "version": "3.8.5"
  }
 },
 "nbformat": 4,
 "nbformat_minor": 4
}
